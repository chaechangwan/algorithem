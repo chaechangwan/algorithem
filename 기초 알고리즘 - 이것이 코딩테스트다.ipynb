{
 "cells": [
  {
   "cell_type": "code",
   "execution_count": 3,
   "id": "b57596be",
   "metadata": {},
   "outputs": [
    {
     "name": "stdout",
     "output_type": "stream",
     "text": [
      "25 5\n",
      "2\n"
     ]
    }
   ],
   "source": [
    "# 그리디\n",
    "n, k = map(int, input().split())\n",
    "def q1(n, k):\n",
    "    cnt = 0\n",
    "    while n > 1:\n",
    "        if n % k == 0:\n",
    "            n = n // k\n",
    "        else:\n",
    "            n -= 1\n",
    "        cnt += 1\n",
    "    return cnt\n",
    "\n",
    "print(q1(n, k))"
   ]
  },
  {
   "cell_type": "code",
   "execution_count": 7,
   "id": "7b86719d",
   "metadata": {},
   "outputs": [
    {
     "name": "stdout",
     "output_type": "stream",
     "text": [
      "c2\n",
      "6\n"
     ]
    }
   ],
   "source": [
    "#구현\n",
    "s = input()\n",
    "x, y = ord(s[0])-97, int(s[1]) - 1\n",
    "dx = [-1, 1, 2, 2, 1, -1, -2, -2]\n",
    "dy = [-2, -2, -1, 1, 2, 2, 1, -1]\n",
    "cnt = 0\n",
    "for i in range(8):\n",
    "    ny, nx = y+dy[i], x + dx[i]\n",
    "    if -1 < ny < 8 and -1 < nx < 8:\n",
    "        cnt += 1\n",
    "        \n",
    "print(cnt)"
   ]
  },
  {
   "cell_type": "code",
   "execution_count": 30,
   "id": "d161326b",
   "metadata": {},
   "outputs": [
    {
     "name": "stdout",
     "output_type": "stream",
     "text": [
      "4 5\n",
      "00110\n",
      "00011\n",
      "11111\n",
      "00000\n",
      "3\n"
     ]
    }
   ],
   "source": [
    "#dfs\n",
    "n, m = map(int, input().split())\n",
    "cont = [list(map(int, list(input()))) for _ in range(n)]\n",
    "dy = [-1, 0, 1, 0]\n",
    "dx = [0, 1, 0, -1]\n",
    "visited = [[False for _ in range(m)] for _ in range(n)]\n",
    "cnt = 0\n",
    "\n",
    "def dfs(y, x):\n",
    "    visited[y][x] = True\n",
    "    for i in range(4):\n",
    "        ny, nx = y+dy[i], x+dx[i]\n",
    "\n",
    "        if -1 < ny < n and -1 < nx < m:\n",
    "            if not visited[ny][nx] and cont[ny][nx] == 0:\n",
    "                dfs(ny, nx)\n",
    "for i in range(n):\n",
    "    for j in range(m):\n",
    "        if not visited[i][j] and cont[i][j] == 0:\n",
    "            cnt += 1\n",
    "            dfs(i, j)\n",
    "\n",
    "print(cnt)"
   ]
  },
  {
   "cell_type": "code",
   "execution_count": 34,
   "id": "42ff36a4",
   "metadata": {},
   "outputs": [
    {
     "name": "stdout",
     "output_type": "stream",
     "text": [
      "5 6\n",
      "101010\n",
      "111111\n",
      "000001\n",
      "111111\n",
      "111111\n",
      "10\n"
     ]
    }
   ],
   "source": [
    "#bfs\n",
    "from collections import deque\n",
    "n, m = map(int, input().split())\n",
    "maze = [list(map(int, list(input()))) for _ in range(n)]\n",
    "dy = [-1, 0, 1, 0]\n",
    "dx = [0, 1, 0, -1]\n",
    "visited = [[False for _ in range(m)] for _ in range(n)]\n",
    "queue = deque([(0, 0, 1)])\n",
    "answer = 0\n",
    "while queue:\n",
    "    y, x, cnt = queue.popleft()\n",
    "    if y == n-1 and x == m-1:\n",
    "        answer = cnt\n",
    "        break\n",
    "    for i in range(4):\n",
    "        ny, nx = y+dy[i], x+dx[i]\n",
    "        if -1 < ny < n and -1 < nx < m:\n",
    "            if not visited[ny][nx] and maze[ny][nx] == 1:\n",
    "                queue.append((ny, nx, cnt+1))\n",
    "                visited[ny][nx] = True\n",
    "\n",
    "print(answer)"
   ]
  },
  {
   "cell_type": "code",
   "execution_count": 35,
   "id": "9b03f255",
   "metadata": {},
   "outputs": [
    {
     "name": "stdout",
     "output_type": "stream",
     "text": [
      "4 6\n",
      "19 15 10 17\n",
      "15\n"
     ]
    }
   ],
   "source": [
    "#binary search\n",
    "n, m = map(int, input().split())\n",
    "arr = list(map(int, input().split()))\n",
    "answer = 0\n",
    "def calculate(height):\n",
    "    total = 0\n",
    "    for i in arr:\n",
    "        total += max(0, i-height)\n",
    "    return total\n",
    "\n",
    "start, end = 0, 1000000000\n",
    "while start <= end:\n",
    "    mid = (start+end) //2\n",
    "    if calculate(mid) < m:\n",
    "        end = mid-1\n",
    "    else:\n",
    "        answer = mid\n",
    "        start = mid + 1\n",
    "\n",
    "print(answer)"
   ]
  },
  {
   "cell_type": "code",
   "execution_count": 40,
   "id": "ca821f19",
   "metadata": {},
   "outputs": [
    {
     "name": "stdout",
     "output_type": "stream",
     "text": [
      "4\n",
      "1 3 1 5\n",
      "8\n"
     ]
    }
   ],
   "source": [
    "#dinamic programming\n",
    "n = int(input())\n",
    "arr = list(map(int, input().split()))\n",
    "dp = [0 for _ in range(n)]\n",
    "dp[0] = arr[0]\n",
    "dp[1] = max(arr[0], arr[1])\n",
    "for i in range(2, n):\n",
    "    dp[i] = max(dp[i-1], dp[i-2] + arr[i])\n",
    "print(dp[n-1])"
   ]
  },
  {
   "cell_type": "code",
   "execution_count": 48,
   "id": "93dd81d6",
   "metadata": {},
   "outputs": [
    {
     "data": {
      "text/plain": [
       "[(1, 2, 3),\n",
       " (1, 2, 4),\n",
       " (1, 2, 5),\n",
       " (1, 3, 2),\n",
       " (1, 3, 4),\n",
       " (1, 3, 5),\n",
       " (1, 4, 2),\n",
       " (1, 4, 3),\n",
       " (1, 4, 5),\n",
       " (1, 5, 2),\n",
       " (1, 5, 3),\n",
       " (1, 5, 4),\n",
       " (2, 1, 3),\n",
       " (2, 1, 4),\n",
       " (2, 1, 5),\n",
       " (2, 3, 1),\n",
       " (2, 3, 4),\n",
       " (2, 3, 5),\n",
       " (2, 4, 1),\n",
       " (2, 4, 3),\n",
       " (2, 4, 5),\n",
       " (2, 5, 1),\n",
       " (2, 5, 3),\n",
       " (2, 5, 4),\n",
       " (3, 1, 2),\n",
       " (3, 1, 4),\n",
       " (3, 1, 5),\n",
       " (3, 2, 1),\n",
       " (3, 2, 4),\n",
       " (3, 2, 5),\n",
       " (3, 4, 1),\n",
       " (3, 4, 2),\n",
       " (3, 4, 5),\n",
       " (3, 5, 1),\n",
       " (3, 5, 2),\n",
       " (3, 5, 4),\n",
       " (4, 1, 2),\n",
       " (4, 1, 3),\n",
       " (4, 1, 5),\n",
       " (4, 2, 1),\n",
       " (4, 2, 3),\n",
       " (4, 2, 5),\n",
       " (4, 3, 1),\n",
       " (4, 3, 2),\n",
       " (4, 3, 5),\n",
       " (4, 5, 1),\n",
       " (4, 5, 2),\n",
       " (4, 5, 3),\n",
       " (5, 1, 2),\n",
       " (5, 1, 3),\n",
       " (5, 1, 4),\n",
       " (5, 2, 1),\n",
       " (5, 2, 3),\n",
       " (5, 2, 4),\n",
       " (5, 3, 1),\n",
       " (5, 3, 2),\n",
       " (5, 3, 4),\n",
       " (5, 4, 1),\n",
       " (5, 4, 2),\n",
       " (5, 4, 3)]"
      ]
     },
     "execution_count": 48,
     "metadata": {},
     "output_type": "execute_result"
    }
   ],
   "source": [
    "# itertools\n",
    "from itertools import permutations\n",
    "arr = [1, 2, 3, 4, 5]\n",
    "list(permutations(arr, 3))"
   ]
  },
  {
   "cell_type": "code",
   "execution_count": 49,
   "id": "e25d0241",
   "metadata": {},
   "outputs": [
    {
     "data": {
      "text/plain": [
       "[(5, 6, 7),\n",
       " (5, 6, 8),\n",
       " (5, 6, 9),\n",
       " (5, 7, 8),\n",
       " (5, 7, 9),\n",
       " (5, 8, 9),\n",
       " (6, 7, 8),\n",
       " (6, 7, 9),\n",
       " (6, 8, 9),\n",
       " (7, 8, 9)]"
      ]
     },
     "execution_count": 49,
     "metadata": {},
     "output_type": "execute_result"
    }
   ],
   "source": [
    "from itertools import combinations\n",
    "arr = [5, 6, 7, 8, 9]\n",
    "list(combinations(arr, 3))"
   ]
  },
  {
   "cell_type": "code",
   "execution_count": null,
   "id": "0d28752f",
   "metadata": {},
   "outputs": [],
   "source": []
  }
 ],
 "metadata": {
  "kernelspec": {
   "display_name": "Python 3",
   "language": "python",
   "name": "python3"
  },
  "language_info": {
   "codemirror_mode": {
    "name": "ipython",
    "version": 3
   },
   "file_extension": ".py",
   "mimetype": "text/x-python",
   "name": "python",
   "nbconvert_exporter": "python",
   "pygments_lexer": "ipython3",
   "version": "3.8.8"
  }
 },
 "nbformat": 4,
 "nbformat_minor": 5
}
