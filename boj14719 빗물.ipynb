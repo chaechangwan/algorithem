{
 "cells": [
  {
   "cell_type": "markdown",
   "id": "94631b29",
   "metadata": {},
   "source": [
    "### 1층부터 h층까지 올라가면서 각 층에서 벽 사이에 존재하는 공간의 개수를 세면 된다.(시간복잡도: h*w) \n",
    "### ※투포인터로 구현하면 시간복잡도 w만에 끝낼수 있다. "
   ]
  },
  {
   "cell_type": "code",
   "execution_count": null,
   "id": "774e540f",
   "metadata": {},
   "outputs": [],
   "source": [
    "h, w = map(int, input().split())\n",
    "blocks = list(map(int, input().split()))\n",
    "total_water = 0\n",
    "for i in range(1, h+1):\n",
    "  layer_water = 0\n",
    "  stored_water = 0\n",
    "  can_store = False\n",
    "  for j in range(w):\n",
    "    if blocks[j] >= i:\n",
    "      can_store = True\n",
    "      layer_water += stored_water\n",
    "      stored_water = 0\n",
    "    else:\n",
    "      if can_store:\n",
    "        stored_water += 1\n",
    "  total_water += layer_water\n",
    "\n",
    "print(total_water)\n"
   ]
  }
 ],
 "metadata": {
  "kernelspec": {
   "display_name": "Python 3",
   "language": "python",
   "name": "python3"
  },
  "language_info": {
   "codemirror_mode": {
    "name": "ipython",
    "version": 3
   },
   "file_extension": ".py",
   "mimetype": "text/x-python",
   "name": "python",
   "nbconvert_exporter": "python",
   "pygments_lexer": "ipython3",
   "version": "3.8.8"
  }
 },
 "nbformat": 4,
 "nbformat_minor": 5
}
