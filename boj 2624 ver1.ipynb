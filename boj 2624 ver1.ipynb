{
 "cells": [
  {
   "cell_type": "markdown",
   "id": "fbe94be9",
   "metadata": {},
   "source": [
    "### DP 문제\n",
    "- dp 테이블의 행(i)을 동전, 열(j)을 금액으로 두고 누적식으로 진행한다.\n",
    "- 하나의 행(동전)을 진행할때마다 해당 동전을 0~최대갯수 까지 사용하는 각각의 경우에 대하여 dp를 업데이트한다.\n",
    "- ex) 5원짜리 동전을 1개 사용할 경우 : dp[i][0(j) + 5 * 1] 업데이트 -> dp[i][1(j) + 5 * 1] 업데이트 -> .... 하다가 j + 5 * 1이 t를 넘어가면 그만.\n",
    "- 5원짜리 동전을 2개 사용할 경우 : dp[i][0(j) + 5 * 2] 업데이트 -> dp[i][1(j) + 5 * 2] 업데이트 -> ... 하다가 j + 5 * 2가 t를 넘어가면 그만\n",
    "- ....."
   ]
  },
  {
   "cell_type": "code",
   "execution_count": null,
   "id": "aa82427b",
   "metadata": {},
   "outputs": [],
   "source": [
    "t = int(input())\n",
    "k = int(input())\n",
    "coin = [[0, 0]]\n",
    "for _ in range(k):\n",
    "  coin.append(list(map(int, input().split())))\n",
    "\n",
    "dp = [[0 for _ in range(t+1)] for _ in range(k+1)]\n",
    "for i in range(k+1):\n",
    "  dp[i][0] = 1\n",
    "\n",
    "for i in range(1, k+1):\n",
    "  for num in range(coin[i][1] + 1):\n",
    "    for j in range(t+1):\n",
    "      temp = j + coin[i][0] * num\n",
    "      if temp == 0:\n",
    "        continue\n",
    "      elif temp < t+1:\n",
    "        dp[i][temp] += dp[i-1][j]\n",
    "      else:\n",
    "        break;\n",
    "\n",
    "print(dp[k][t])"
   ]
  }
 ],
 "metadata": {
  "kernelspec": {
   "display_name": "Python 3",
   "language": "python",
   "name": "python3"
  },
  "language_info": {
   "codemirror_mode": {
    "name": "ipython",
    "version": 3
   },
   "file_extension": ".py",
   "mimetype": "text/x-python",
   "name": "python",
   "nbconvert_exporter": "python",
   "pygments_lexer": "ipython3",
   "version": "3.8.8"
  }
 },
 "nbformat": 4,
 "nbformat_minor": 5
}
