{
 "cells": [
  {
   "cell_type": "markdown",
   "id": "218a8f26",
   "metadata": {},
   "source": [
    "# 3085 사탕게임\n",
    "1. 현재 칸에서 가능한 경우 양옆, 위 아래 사탕을 교환한다. \n",
    "2. 그후 compare 함수를 호출해서 사탕이 가로 혹은 세로로 가장 길게 늘어서있는 연속 부분을 고른다.\n",
    "3. 교환한 사탕을 원래상태로 돌려 놓는다.\n",
    "4. N * N 배열의 모든 칸에 대하여 반복"
   ]
  },
  {
   "cell_type": "code",
   "execution_count": 6,
   "id": "6596fd0b",
   "metadata": {},
   "outputs": [
    {
     "ename": "ValueError",
     "evalue": "invalid literal for int() with base 10: ''",
     "output_type": "error",
     "traceback": [
      "\u001b[1;31m---------------------------------------------------------------------------\u001b[0m",
      "\u001b[1;31mValueError\u001b[0m                                Traceback (most recent call last)",
      "\u001b[1;32m<ipython-input-6-91bac32ed3a6>\u001b[0m in \u001b[0;36m<module>\u001b[1;34m\u001b[0m\n\u001b[0;32m      1\u001b[0m \u001b[1;32mimport\u001b[0m \u001b[0msys\u001b[0m\u001b[1;33m\u001b[0m\u001b[1;33m\u001b[0m\u001b[0m\n\u001b[1;32m----> 2\u001b[1;33m \u001b[0mn\u001b[0m \u001b[1;33m=\u001b[0m \u001b[0mint\u001b[0m\u001b[1;33m(\u001b[0m\u001b[0minput\u001b[0m\u001b[1;33m(\u001b[0m\u001b[1;33m)\u001b[0m\u001b[1;33m)\u001b[0m\u001b[1;33m\u001b[0m\u001b[1;33m\u001b[0m\u001b[0m\n\u001b[0m\u001b[0;32m      3\u001b[0m \u001b[0mmaps\u001b[0m \u001b[1;33m=\u001b[0m \u001b[1;33m[\u001b[0m\u001b[0mlist\u001b[0m\u001b[1;33m(\u001b[0m\u001b[0minput\u001b[0m\u001b[1;33m(\u001b[0m\u001b[1;33m)\u001b[0m\u001b[1;33m.\u001b[0m\u001b[0mrstrip\u001b[0m\u001b[1;33m(\u001b[0m\u001b[1;33m)\u001b[0m\u001b[1;33m)\u001b[0m \u001b[1;32mfor\u001b[0m \u001b[0m_\u001b[0m \u001b[1;32min\u001b[0m \u001b[0mrange\u001b[0m\u001b[1;33m(\u001b[0m\u001b[0mn\u001b[0m\u001b[1;33m)\u001b[0m\u001b[1;33m]\u001b[0m\u001b[1;33m\u001b[0m\u001b[1;33m\u001b[0m\u001b[0m\n\u001b[0;32m      4\u001b[0m \u001b[0mmax_count\u001b[0m \u001b[1;33m=\u001b[0m \u001b[1;36m0\u001b[0m\u001b[1;33m\u001b[0m\u001b[1;33m\u001b[0m\u001b[0m\n\u001b[0;32m      5\u001b[0m \u001b[1;33m\u001b[0m\u001b[0m\n",
      "\u001b[1;31mValueError\u001b[0m: invalid literal for int() with base 10: ''"
     ]
    }
   ],
   "source": [
    "import sys\n",
    "n = int(input())\n",
    "maps = [list(input()) for _ in range(n)]\n",
    "max_count = 0\n",
    "\n",
    "def calculate_max(i, j):\n",
    "  return i if i >= j else j\n",
    "\n",
    "def compare():\n",
    "  global max_count\n",
    "  for i in range(n):\n",
    "    count = 1\n",
    "    for j in range(1, n):\n",
    "      if maps[i][j] == maps[i][j-1]:\n",
    "        count += 1\n",
    "      else:\n",
    "        count = 1\n",
    "      max_count = calculate_max(max_count, count)\n",
    "      \n",
    "  for i in range(n):\n",
    "    count = 1\n",
    "    for j in range(1, n):\n",
    "      if maps[j][i] == maps[j-1][i]:\n",
    "        count += 1\n",
    "      else:\n",
    "        count = 1\n",
    "      max_count = calculate_max(max_count, count)\n",
    "\n",
    "for i in range(n):\n",
    "  for j in range(n):\n",
    "    if j < n-1:\n",
    "      maps[i][j], maps[i][j+1] = maps[i][j+1], maps[i][j]\n",
    "      compare();\n",
    "      maps[i][j], maps[i][j+1] = maps[i][j+1], maps[i][j]\n",
    "    \n",
    "    if i < n-1:\n",
    "      maps[i][j], maps[i+1][j] = maps[i+1][j], maps[i][j]\n",
    "      compare();\n",
    "      maps[i][j], maps[i+1][j] = maps[i+1][j], maps[i][j]\n",
    "\n",
    "\n",
    "print(max_count)"
   ]
  },
  {
   "cell_type": "code",
   "execution_count": null,
   "id": "7a952735",
   "metadata": {},
   "outputs": [],
   "source": []
  }
 ],
 "metadata": {
  "kernelspec": {
   "display_name": "Python 3",
   "language": "python",
   "name": "python3"
  }
 },
 "nbformat": 4,
 "nbformat_minor": 5
}
