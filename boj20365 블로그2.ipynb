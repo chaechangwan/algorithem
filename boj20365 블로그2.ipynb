{
 "cells": [
  {
   "cell_type": "code",
   "execution_count": null,
   "id": "2bf63634",
   "metadata": {},
   "outputs": [],
   "source": [
    "n = int(input())\n",
    "questions = input()\n",
    "b_cnt = 0 # B의 블럭수\n",
    "r_cnt = 0 # R의 블럭수\n",
    "\n",
    "if questions[0] == 'B':\n",
    "  b_cnt += 1\n",
    "for i in range(1, n):\n",
    "  if questions[i] == 'B':\n",
    "    b_cnt += 1\n",
    "    if questions[i-1] == questions[i] :\n",
    "      b_cnt -= 1\n",
    "\n",
    "if questions[0] == 'B':\n",
    "  r_cnt = b_cnt #R로 끝난다고 가정\n",
    "  if questions[n-1] == 'B': #B로 끝나면 1을 빼준다\n",
    "    r_cnt -= 1\n",
    "else:\n",
    "  r_cnt = b_cnt + 1\n",
    "  if questions[n-1] == 'B':\n",
    "    r_cnt -= 1\n",
    "if b_cnt == r_cnt:\n",
    "  print(b_cnt + 1)\n",
    "else:\n",
    "  print(max(b_cnt, r_cnt))\n"
   ]
  }
 ],
 "metadata": {
  "kernelspec": {
   "display_name": "Python 3",
   "language": "python",
   "name": "python3"
  },
  "language_info": {
   "codemirror_mode": {
    "name": "ipython",
    "version": 3
   },
   "file_extension": ".py",
   "mimetype": "text/x-python",
   "name": "python",
   "nbconvert_exporter": "python",
   "pygments_lexer": "ipython3",
   "version": "3.8.8"
  }
 },
 "nbformat": 4,
 "nbformat_minor": 5
}
