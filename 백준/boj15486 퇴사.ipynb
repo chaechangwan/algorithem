{
 "cells": [
  {
   "cell_type": "markdown",
   "id": "c2142971",
   "metadata": {},
   "source": [
    "### 매일 최대의 수익을 얻을 수 있도록 누적해서 dp 테이블을 업데이트하는 것이 관건이다.\n",
    "1. 이전 날의 수익(dp[i-1])과 예정되있던 오늘의 수익(dp[i])을 비교해서 더 큰 값을 dp[i]에 저장한다.\n",
    "2. **(이전 날까지의 수익(dp[i-1]) + 오늘 부터 시작하는 '상담'의 수익(P[i]))** 과 **기존에 구해놓았던 오늘부터 시작하는 상담의 종료일에 얻을 수 있었던 수익**(dp[i + T[i] - 1])을 비교하여 더 큰 값을 dp[i + T[i] - 1]에 저장한다.\n",
    "3. for 문을 돌며 반복한다"
   ]
  },
  {
   "cell_type": "code",
   "execution_count": null,
   "id": "e5c1e20a",
   "metadata": {},
   "outputs": [],
   "source": [
    "import sys\n",
    "input = sys.stdin.readline\n",
    "n = int(input().rstrip())\n",
    "T, P = [], []\n",
    "for _ in range(n):\n",
    "  t, p = map(int, input().rstrip().split())\n",
    "  T.append(t)\n",
    "  P.append(p)\n",
    "\n",
    "dp = [0] * n\n",
    "if T[0] - 1 < n:  \n",
    "  dp[T[0] - 1] = P[0]\n",
    "\n",
    "for i in range(1, n):\n",
    "  dp[i] = max(dp[i-1], dp[i])\n",
    "  if i + T[i] - 1 < n:\n",
    "    dp[i + T[i] - 1] = max(dp[i + T[i] - 1], dp[i-1] + P[i])\n",
    "\n",
    "print(dp[n-1])"
   ]
  }
 ],
 "metadata": {
  "kernelspec": {
   "display_name": "Python 3",
   "language": "python",
   "name": "python3"
  },
  "language_info": {
   "codemirror_mode": {
    "name": "ipython",
    "version": 3
   },
   "file_extension": ".py",
   "mimetype": "text/x-python",
   "name": "python",
   "nbconvert_exporter": "python",
   "pygments_lexer": "ipython3",
   "version": "3.8.8"
  }
 },
 "nbformat": 4,
 "nbformat_minor": 5
}
