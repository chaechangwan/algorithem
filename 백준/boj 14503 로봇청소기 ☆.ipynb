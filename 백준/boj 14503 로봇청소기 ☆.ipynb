{
 "cells": [
  {
   "cell_type": "markdown",
   "id": "a9392615",
   "metadata": {},
   "source": [
    "### 문제의 조건대로 구현하면 되는 문제이다.\n",
    "- 로봇청소기의 방향을 회전하는 부분을 구현하는 것이 관건!"
   ]
  },
  {
   "cell_type": "code",
   "execution_count": null,
   "id": "05f2ff1e",
   "metadata": {},
   "outputs": [],
   "source": [
    "import sys\n",
    "input = sys.stdin.readline\n",
    "n, m = map(int, input().rstrip().split())\n",
    "y, x, d = map(int, input().rstrip().split())\n",
    "arr = [list(map(int, input().rstrip().split())) for _ in range(n)]\n",
    "dy = [-1, 0, 1, 0]\n",
    "dx = [0, 1, 0, -1]\n",
    "total = 0\n",
    "\n",
    "def check(y, x): #청소할 수 있는 방향있는지 검사 & 회전\n",
    "  global d\n",
    "  cnt = 0\n",
    "  while cnt < 4:\n",
    "    d = (d+3) % 4   \n",
    "    cnt += 1 \n",
    "    ny, nx = y + dy[d], x + dx[d]\n",
    "    if arr[ny][nx] == 0:\n",
    "      return True\n",
    "  return False\n",
    "\n",
    "while True:\n",
    "  if arr[y][x] == 0: #현재칸이 청소되어있지않은 경우만 total에 더해준다.\n",
    "    total += 1\n",
    "  arr[y][x] = 2 #현재 칸 청소\n",
    "  temp = check(y, x)\n",
    "  if temp: #청소할 수 있는 방향이 있는 경우\n",
    "    y, x = y + dy[d], x + dx[d]\n",
    "  else: #4방향 모두 청소되어있거나 벽인 경우\n",
    "    ny, nx = y - dy[d], x - dx[d]\n",
    "    if arr[ny][nx] == 1: #뒤가 벽인경우\n",
    "      break;\n",
    "    else:\n",
    "      y, x = ny, nx\n",
    "\n",
    "print(total)"
   ]
  }
 ],
 "metadata": {
  "kernelspec": {
   "display_name": "Python 3",
   "language": "python",
   "name": "python3"
  },
  "language_info": {
   "codemirror_mode": {
    "name": "ipython",
    "version": 3
   },
   "file_extension": ".py",
   "mimetype": "text/x-python",
   "name": "python",
   "nbconvert_exporter": "python",
   "pygments_lexer": "ipython3",
   "version": "3.8.8"
  }
 },
 "nbformat": 4,
 "nbformat_minor": 5
}
