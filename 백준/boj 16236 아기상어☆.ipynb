{
 "cells": [
  {
   "cell_type": "markdown",
   "id": "a31383bb",
   "metadata": {},
   "source": [
    "### 정해진 규칙에 따라 구현해야하는 문제. 어렵다...\n",
    "- 풀이의 핵심은 물고기를 먹을때 동일한 거리에 먹을 수 있는 물고기가 있다면, 가장 위쪽 물고기를 먹어야하며, 위쪽에 물고기가 두마리 이상일 경우 왼쪽물고기를 먹어햐한다는 것이다.\n",
    "- 해결방법은 일단 현재 위치에서 큐에 동일 거리에 있는 좌표들을 다 담은 후, 큐에서 pop을 하기 전에 위쪽, 왼쪽의 우선순위를 두고 큐를 정렬하는 것이다."
   ]
  },
  {
   "cell_type": "code",
   "execution_count": null,
   "id": "f4ec7279",
   "metadata": {},
   "outputs": [],
   "source": [
    "from collections import deque\n",
    "n = int(input())\n",
    "field = [list(map(int, input().split())) for _ in range(n)]\n",
    "\n",
    "dy = [-1, 0, 0, 1]\n",
    "dx = [0, -1, 1, 0]\n",
    "visited = [[False for _ in range(n)] for _ in range(n)]\n",
    "\n",
    "def bfs(y, x):\n",
    "  global visited\n",
    "  field[y][x] = 0\n",
    "  shark = 2\n",
    "  eat = 0\n",
    "  total_time = 0\n",
    "  time = 0\n",
    "  queue = deque([(y, x)])\n",
    "  visited[y][x] = True\n",
    "\n",
    "  while queue:\n",
    "    flag = False\n",
    "    queue = deque(sorted(queue, key = lambda x : (x[0], x[1]))) # 이부분이 풀이의 핵심\n",
    "    size = len(queue)\n",
    "    for _ in range(size):\n",
    "      y, x = queue.popleft()\n",
    "      if 0 < field[y][x] < shark:\n",
    "        total_time += time\n",
    "        time = 0\n",
    "        eat += 1\n",
    "        field[y][x] = 0\n",
    "        if eat == shark:\n",
    "          eat = 0\n",
    "          shark += 1\n",
    "        queue = deque([])\n",
    "        visited = [[False for _ in range(n)] for _ in range(n)]\n",
    "        flag = True\n",
    "\n",
    "      for i in range(4):\n",
    "        ny, nx = y + dy[i], x + dx[i]\n",
    "        if -1 < ny < n and -1 < nx < n:\n",
    "          if not visited[ny][nx] and field[ny][nx] <= shark:\n",
    "            queue.append((ny, nx))\n",
    "            visited[ny][nx] = True\n",
    "      \n",
    "      if flag:\n",
    "        break\n",
    "\n",
    "    time += 1\n",
    "  \n",
    "  return total_time\n",
    "\n",
    "shark_y, shark_x = 0, 0\n",
    "\n",
    "for i in range(n):\n",
    "  for j in range(n):\n",
    "    if field[i][j] == 9:\n",
    "      shark_y, shark_x = i, j\n",
    "\n",
    "print(bfs(shark_y, shark_x))"
   ]
  }
 ],
 "metadata": {
  "kernelspec": {
   "display_name": "Python 3",
   "language": "python",
   "name": "python3"
  },
  "language_info": {
   "codemirror_mode": {
    "name": "ipython",
    "version": 3
   },
   "file_extension": ".py",
   "mimetype": "text/x-python",
   "name": "python",
   "nbconvert_exporter": "python",
   "pygments_lexer": "ipython3",
   "version": "3.8.8"
  }
 },
 "nbformat": 4,
 "nbformat_minor": 5
}
