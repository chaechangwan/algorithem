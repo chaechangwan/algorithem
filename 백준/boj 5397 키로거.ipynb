{
 "cells": [
  {
   "cell_type": "markdown",
   "id": "f5b746d1",
   "metadata": {},
   "source": [
    "# 스택 2개를 이용하는 문제이다.\n",
    "## 총 4가지 경우의 수가 있다.\n",
    "1. 알파벳인 경우 : 스택 1에 넣는다\n",
    "2. &lt; 인 경우 : 스택 1에서 빼서 스택 2에 넣는다\n",
    "3. &gt; 인 경우 : 스택 2에서 빼서 스택 1에 넣는다\n",
    "4. \\- 인 경우 : 스택 1에서 빼기만 한다."
   ]
  },
  {
   "cell_type": "code",
   "execution_count": null,
   "id": "4fba3331",
   "metadata": {},
   "outputs": [],
   "source": [
    "t = int(input())\n",
    "for _ in range(t):\n",
    "  stack1 = []\n",
    "  stack2 = []\n",
    "  keylog = input()\n",
    "  for k in keylog:\n",
    "    if k == \"<\":\n",
    "      if stack1 : \n",
    "        stack2.append(stack1.pop())\n",
    "    elif k == \">\":\n",
    "      if stack2 : \n",
    "        stack1.append(stack2.pop())\n",
    "    elif k == \"-\":\n",
    "      if stack1 :\n",
    "        stack1.pop()\n",
    "    else:\n",
    "      stack1.append(k)\n",
    "  stack2.reverse()\n",
    "  result = \"\".join(stack1 + stack2)\n",
    "  print(result)"
   ]
  }
 ],
 "metadata": {
  "kernelspec": {
   "display_name": "Python 3",
   "language": "python",
   "name": "python3"
  },
  "language_info": {
   "codemirror_mode": {
    "name": "ipython",
    "version": 3
   },
   "file_extension": ".py",
   "mimetype": "text/x-python",
   "name": "python",
   "nbconvert_exporter": "python",
   "pygments_lexer": "ipython3",
   "version": "3.8.8"
  }
 },
 "nbformat": 4,
 "nbformat_minor": 5
}
