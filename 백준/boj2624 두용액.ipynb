{
 "cells": [
  {
   "cell_type": "code",
   "execution_count": null,
   "id": "3999330f",
   "metadata": {},
   "outputs": [],
   "source": [
    "n = int(input())\n",
    "liquid = list(map(int, input().split()))\n",
    "liquid.sort()\n",
    "result = 2000000000\n",
    "final = [liquid[0], liquid[n-1]]\n",
    "j = n-1\n",
    "\n",
    "for i in range(n):\n",
    "  if i >= j:\n",
    "    break\n",
    "\n",
    "  while i < j:\n",
    "    temp = liquid[i] + liquid[j]\n",
    "    if abs(result) > abs(temp):\n",
    "      result = temp\n",
    "      final = [liquid[i],liquid[j]]\n",
    "    if temp < 0:\n",
    "      break\n",
    "    j -= 1\n",
    "\n",
    "print(final[0], final[1])\n"
   ]
  }
 ],
 "metadata": {
  "kernelspec": {
   "display_name": "Python 3",
   "language": "python",
   "name": "python3"
  },
  "language_info": {
   "codemirror_mode": {
    "name": "ipython",
    "version": 3
   },
   "file_extension": ".py",
   "mimetype": "text/x-python",
   "name": "python",
   "nbconvert_exporter": "python",
   "pygments_lexer": "ipython3",
   "version": "3.8.8"
  }
 },
 "nbformat": 4,
 "nbformat_minor": 5
}
