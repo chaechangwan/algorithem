{
 "cells": [
  {
   "cell_type": "markdown",
   "id": "48f6bcca",
   "metadata": {},
   "source": [
    "# DP 문제이다. \n",
    "- i 자리 이친수중 0으로 끝나는 수가 n개, 1로 끝나는 수가 m개 있다면  ->  i+1자리 이친수는 0으로 끝나는 수가 n+m개, 1로 끝나는 수는 n개 이다. "
   ]
  },
  {
   "cell_type": "code",
   "execution_count": null,
   "id": "417d98fa",
   "metadata": {},
   "outputs": [],
   "source": [
    "n = int(input())\n",
    "dp = [[0, 0] for _ in range(n+1)] #dp[i] = [0으로끝나는 숫자 갯수, 1로 끝나는 숫자 갯수]\n",
    "dp[1] = [0, 1]\n",
    "for i in range(2, n+1):\n",
    "  num_0 = dp[i-1][0] + dp[i-1][1] #i자리 이친수의 0으로끝나는 숫자 갯수\n",
    "  num_1 = dp[i-1][0] #i자리 이친수의 1로 끝나는 숫자 갯수\n",
    "  dp[i] = [num_0, num_1]\n",
    "\n",
    "print(dp[n][0] + dp[n][1])"
   ]
  }
 ],
 "metadata": {
  "kernelspec": {
   "display_name": "Python 3",
   "language": "python",
   "name": "python3"
  },
  "language_info": {
   "codemirror_mode": {
    "name": "ipython",
    "version": 3
   },
   "file_extension": ".py",
   "mimetype": "text/x-python",
   "name": "python",
   "nbconvert_exporter": "python",
   "pygments_lexer": "ipython3",
   "version": "3.8.8"
  }
 },
 "nbformat": 4,
 "nbformat_minor": 5
}
