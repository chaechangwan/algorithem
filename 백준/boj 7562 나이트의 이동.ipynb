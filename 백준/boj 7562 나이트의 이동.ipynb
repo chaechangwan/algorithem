{
 "cells": [
  {
   "cell_type": "markdown",
   "id": "f58d92dd",
   "metadata": {},
   "source": [
    "# BFS를 이용한 문제이다."
   ]
  },
  {
   "cell_type": "code",
   "execution_count": null,
   "id": "eeb87212",
   "metadata": {},
   "outputs": [],
   "source": [
    "import sys\n",
    "from collections import deque\n",
    "input = sys.stdin.readline\n",
    "t = int(input().rstrip())\n",
    "dy = [-2, -1, 1, 2, 2, 1, -1, -2]\n",
    "dx = [1, 2, 2, 1, -1, -2, -2, -1]\n",
    "result = []\n",
    "\n",
    "def bfs(n, start, target):\n",
    "  queue = deque([(start[0], start[1], 0)]) #y, x, cnt\n",
    "  visited = [[False for _ in range(n)] for _ in range(n)]\n",
    "\n",
    "  while queue:\n",
    "    y, x, cnt = queue.popleft()\n",
    "    if y == target[0] and x == target[1]:\n",
    "      return cnt\n",
    "    for i in range(8):\n",
    "      ny, nx = y + dy[i], x + dx[i]\n",
    "      if -1 < ny < n and -1 < nx < n:\n",
    "        if not visited[ny][nx]:\n",
    "          queue.append((ny, nx, cnt + 1))\n",
    "          visited[ny][nx] = True\n",
    "  \n",
    "  return -1\n",
    "\n",
    "for _ in range(t):\n",
    "  n = int(input().rstrip())\n",
    "  start = list(map(int, input().rstrip().split()))\n",
    "  target = list(map(int, input().rstrip().split()))\n",
    "  temp = bfs(n, start, target)\n",
    "  result.append(temp)\n",
    "\n",
    "for i in result:\n",
    "  print(i)"
   ]
  }
 ],
 "metadata": {
  "kernelspec": {
   "display_name": "Python 3",
   "language": "python",
   "name": "python3"
  },
  "language_info": {
   "codemirror_mode": {
    "name": "ipython",
    "version": 3
   },
   "file_extension": ".py",
   "mimetype": "text/x-python",
   "name": "python",
   "nbconvert_exporter": "python",
   "pygments_lexer": "ipython3",
   "version": "3.8.8"
  }
 },
 "nbformat": 4,
 "nbformat_minor": 5
}
