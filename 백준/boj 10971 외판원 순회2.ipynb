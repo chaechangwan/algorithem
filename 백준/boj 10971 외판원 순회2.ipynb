{
 "cells": [
  {
   "cell_type": "markdown",
   "id": "4eb74a18",
   "metadata": {},
   "source": [
    "### 백트래킹문제이다.\n",
    "- 결과에 영향을 미치지 않는 탐색을 하지 않아야 모든 테스트 케이스를 통과할 수 있다.\n",
    "\n",
    "- depth가 n인 경우(탐색이 완료된경우)\n",
    "1. 최초 출발 도시로의 탐색비용이 0 보다 큰 경우만 더해서 최소 비용과 비교한다.\n",
    "\n",
    "- 탐색 도중인 경우\n",
    "1. 다음 도시로의 이동비용이 0 인경우는 탐색을 중단한다. \n",
    "2. 다음 도시를 탐색한다면 현재 구해져 있는 최소비용을 오버하게 되는 경우 탐색을 중단한다."
   ]
  },
  {
   "cell_type": "code",
   "execution_count": null,
   "id": "52d530e1",
   "metadata": {},
   "outputs": [],
   "source": [
    "n = int(input())\n",
    "w = [list(map(int, input().split())) for _ in range(n)]\n",
    "result = 4000000\n",
    "\n",
    "def dfs(start, depth, visited, fee):\n",
    "  global result\n",
    "  if depth == n:\n",
    "    if w[visited[-1]][start] != 0:\n",
    "      result = min(result, fee + w[visited[-1]][start])\n",
    "    return\n",
    "  \n",
    "  for i in range(n):\n",
    "    fee_temp = w[visited[-1]][i]\n",
    "    if i not in visited and fee_temp != 0 and fee+fee_temp < result:\n",
    "      visited.append(i)\n",
    "      dfs(start, depth+1, visited, fee+fee_temp)\n",
    "      visited.pop()\n",
    "\n",
    "for i in range(n):\n",
    "  dfs(i, 1, [i], 0)\n",
    "\n",
    "print(result)"
   ]
  }
 ],
 "metadata": {
  "kernelspec": {
   "display_name": "Python 3",
   "language": "python",
   "name": "python3"
  },
  "language_info": {
   "codemirror_mode": {
    "name": "ipython",
    "version": 3
   },
   "file_extension": ".py",
   "mimetype": "text/x-python",
   "name": "python",
   "nbconvert_exporter": "python",
   "pygments_lexer": "ipython3",
   "version": "3.8.8"
  }
 },
 "nbformat": 4,
 "nbformat_minor": 5
}
