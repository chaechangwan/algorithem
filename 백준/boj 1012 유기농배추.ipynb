{
 "cells": [
  {
   "cell_type": "markdown",
   "id": "f72daccb",
   "metadata": {},
   "source": [
    "# DFS/BFS를 이용한 탐색 문제\n",
    "- 아래 풀이는 dfs를 이용한 풀이이다."
   ]
  },
  {
   "cell_type": "code",
   "execution_count": null,
   "id": "bcf10f64",
   "metadata": {},
   "outputs": [],
   "source": [
    "import sys\n",
    "sys.setrecursionlimit(10000)\n",
    "input = sys.stdin.readline\n",
    "resultset = []\n",
    "\n",
    "def dfs(x, y):\n",
    "  visited[x][y] = True\n",
    "  for i in range(4):\n",
    "    nx, ny = x + dx[i], y + dy[i]\n",
    "    if -1 < nx < m and -1 < ny < n and arr[nx][ny] == 1:\n",
    "      if not visited[nx][ny]:\n",
    "        dfs(nx, ny)\n",
    "\n",
    "t = int(input().rstrip())\n",
    "dx, dy = [-1, 0, 1, 0], [0, 1, 0, -1]\n",
    "for _ in range(t):\n",
    "  m, n, k = map(int, input().rstrip().split())\n",
    "  arr = [[0 for _ in range(n)] for _ in range(m)]\n",
    "  for _ in range(k):\n",
    "    i, j = map(int, input().rstrip().split())\n",
    "    arr[i][j] = 1\n",
    "  visited = [[False for _ in range(n)] for _ in range(m)] \n",
    "  result = 0\n",
    "  for i in range(m):\n",
    "    for j in range(n):\n",
    "      if arr[i][j] == 1 and not visited[i][j]:\n",
    "        result += 1\n",
    "        dfs(i, j)\n",
    "\n",
    "  resultset.append(result)\n",
    "\n",
    "for i in resultset:\n",
    "  print(i)"
   ]
  }
 ],
 "metadata": {
  "kernelspec": {
   "display_name": "Python 3",
   "language": "python",
   "name": "python3"
  },
  "language_info": {
   "codemirror_mode": {
    "name": "ipython",
    "version": 3
   },
   "file_extension": ".py",
   "mimetype": "text/x-python",
   "name": "python",
   "nbconvert_exporter": "python",
   "pygments_lexer": "ipython3",
   "version": "3.8.8"
  }
 },
 "nbformat": 4,
 "nbformat_minor": 5
}
