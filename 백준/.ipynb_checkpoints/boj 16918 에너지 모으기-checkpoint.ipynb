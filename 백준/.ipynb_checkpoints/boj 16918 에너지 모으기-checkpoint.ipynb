{
 "cells": [
  {
   "cell_type": "markdown",
   "id": "e7de9d03",
   "metadata": {},
   "source": [
    "# 백트래킹 / 재귀 문제이다"
   ]
  },
  {
   "cell_type": "code",
   "execution_count": null,
   "id": "85b98283",
   "metadata": {},
   "outputs": [],
   "source": [
    "n = int(input())\n",
    "arr = list(map(int, input().split()))\n",
    "result = 0\n",
    "def bt(depth, s):\n",
    "  global result\n",
    "  \n",
    "  if depth == n-2:\n",
    "    result = max(result, s)\n",
    "    return\n",
    "  \n",
    "  for i in range(len(arr)):\n",
    "    if i not in (0, len(arr)-1):\n",
    "      temp_plus = arr[i-1] * arr[i+1]\n",
    "      temp_i = arr[i]\n",
    "      arr.pop(i)\n",
    "      bt(depth + 1, s + temp_plus)\n",
    "      arr.insert(i, temp_i)\n",
    "      \n",
    "bt(0, 0)\n",
    "print(result)"
   ]
  }
 ],
 "metadata": {
  "kernelspec": {
   "display_name": "Python 3",
   "language": "python",
   "name": "python3"
  },
  "language_info": {
   "codemirror_mode": {
    "name": "ipython",
    "version": 3
   },
   "file_extension": ".py",
   "mimetype": "text/x-python",
   "name": "python",
   "nbconvert_exporter": "python",
   "pygments_lexer": "ipython3",
   "version": "3.8.8"
  }
 },
 "nbformat": 4,
 "nbformat_minor": 5
}
