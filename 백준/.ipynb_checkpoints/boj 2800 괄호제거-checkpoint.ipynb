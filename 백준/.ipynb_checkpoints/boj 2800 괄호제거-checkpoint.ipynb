{
 "cells": [
  {
   "cell_type": "markdown",
   "id": "1876c605",
   "metadata": {},
   "source": [
    "# 조합을 이용하는 문제이다. (재귀로 풀 수 있음)\n",
    "1. 괄호의 인덱스 쌍을 모두 구한다. 이와 동시에 괄호에 해당하는 부분을 ''로 바꿔준다.\n",
    "2. 인덱스 쌍으로 나올 수 있는 모든 조합의 경우를 찾는다(itertools.combinations)\n",
    "3. 조합내부의 인덱스 쌍을 순회하면서 해당 인덱스에 해당하는 ''부분을 다시 알맞는 괄호로 바꿔준다. \n",
    "4. 마지막에 중복을 제거해줘야함. ex) (((2))) 이런 경우가 있을 수 있다."
   ]
  },
  {
   "cell_type": "code",
   "execution_count": null,
   "id": "7aa8e680",
   "metadata": {},
   "outputs": [],
   "source": [
    "from itertools import combinations\n",
    "exp = list(input()) #문자열을 리스트로 변환\n",
    "bracket = [] #괄호의 인덱스 쌍을 담을 리스트\n",
    "stack = [] #스택\n",
    "result_set = set() #최종 결과. 중복을 제거할 수 있도록 set으로 만든다\n",
    "#입력받은 리스트를 순회하며 괄호의 인덱스 쌍을 bracket에 담는다.\n",
    "for i in range(len(exp)):\n",
    "  if exp[i] == \"(\":\n",
    "    stack.append([i])\n",
    "    exp[i] = \"\"\n",
    "  elif exp[i] == \")\":\n",
    "    temp = stack.pop()\n",
    "    temp.append(i)\n",
    "    bracket.append(temp)\n",
    "    exp[i] = \"\"\n",
    "for i in range(len(bracket)):\n",
    "  for j in combinations(bracket, i): # i개의 원소로 구성된 모든 조합을 구하여 반복\n",
    "    result = exp[:] #입력받은 배열 복사\n",
    "    for left, right in j: #조합 내부의 인덱스 쌍들을 순회하며 괄호가 들어갈 자리를 찾아내어 결과로 출력할 식을 만들어줌.\n",
    "      result[left] = \"(\"\n",
    "      result[right] = \")\"\n",
    "    result = \"\".join(result)\n",
    "    result_set.add(result) #최종 결과에 만든 식을 넣어줌\n",
    "for i in sorted(result_set):\n",
    "  print(i)"
   ]
  }
 ],
 "metadata": {
  "kernelspec": {
   "display_name": "Python 3",
   "language": "python",
   "name": "python3"
  },
  "language_info": {
   "codemirror_mode": {
    "name": "ipython",
    "version": 3
   },
   "file_extension": ".py",
   "mimetype": "text/x-python",
   "name": "python",
   "nbconvert_exporter": "python",
   "pygments_lexer": "ipython3",
   "version": "3.8.8"
  }
 },
 "nbformat": 4,
 "nbformat_minor": 5
}
