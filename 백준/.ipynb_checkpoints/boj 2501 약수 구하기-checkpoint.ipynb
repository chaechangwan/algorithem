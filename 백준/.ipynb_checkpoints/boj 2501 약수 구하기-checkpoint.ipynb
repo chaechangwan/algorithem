{
 "cells": [
  {
   "cell_type": "code",
   "execution_count": null,
   "id": "b7dfef75",
   "metadata": {},
   "outputs": [],
   "source": [
    "n, k = map(int, input().split())\n",
    "\n",
    "cnt = 0\n",
    "result = 0\n",
    "for i in range(1, n+1):\n",
    "  if n % i == 0:\n",
    "    cnt += 1\n",
    "  if cnt == k:\n",
    "    result = i\n",
    "    break;\n",
    "\n",
    "if cnt < k:\n",
    "  print(0)\n",
    "else:\n",
    "  print(result)"
   ]
  }
 ],
 "metadata": {
  "kernelspec": {
   "display_name": "Python 3",
   "language": "python",
   "name": "python3"
  },
  "language_info": {
   "codemirror_mode": {
    "name": "ipython",
    "version": 3
   },
   "file_extension": ".py",
   "mimetype": "text/x-python",
   "name": "python",
   "nbconvert_exporter": "python",
   "pygments_lexer": "ipython3",
   "version": "3.8.8"
  }
 },
 "nbformat": 4,
 "nbformat_minor": 5
}
