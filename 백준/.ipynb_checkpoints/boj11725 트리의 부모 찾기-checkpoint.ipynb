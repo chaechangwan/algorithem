{
 "cells": [
  {
   "cell_type": "markdown",
   "id": "a9bd7b03",
   "metadata": {},
   "source": [
    "# 트리문제\n",
    "- 트리를 인접리스트 방식으로 구현하고\n",
    "- dfs를 이용하여 루트 노드인 1부터 시작해서 다음노드로 들어갈때마다, 노드의 부모를 parents 딕셔너리에 저장한다. "
   ]
  },
  {
   "cell_type": "code",
   "execution_count": null,
   "id": "9a82f664",
   "metadata": {},
   "outputs": [],
   "source": [
    "import sys\n",
    "sys.setrecursionlimit(10**9)\n",
    "input = sys.stdin.readline\n",
    "n = int(input().rstrip())\n",
    "tree = [[] for _ in range(n+1)]\n",
    "for _ in range(n-1):\n",
    "  a, b = map(int, input().rstrip().split())\n",
    "  tree[a].append(b)\n",
    "  tree[b].append(a)\n",
    "\n",
    "parents = dict(zip(range(n+1), [0]*(n+1))) #key를 0부터 n까지 가지는 딕셔너리\n",
    "\n",
    "visited = [False for _ in range(n+1)]\n",
    "\n",
    "def dfs(now):\n",
    "  visited[now] = True\n",
    "  for i in tree[now]:\n",
    "    if not visited[i]:\n",
    "      parents[i] = now #다음 노드를 방문하기전에 현재노드(now)를 노드 i의 부모로 등록\n",
    "      dfs(i)\n",
    "\n",
    "dfs(1)\n",
    "for i in parents.keys():\n",
    "  if i >= 2:\n",
    "    print(parents[i])"
   ]
  }
 ],
 "metadata": {
  "kernelspec": {
   "display_name": "Python 3",
   "language": "python",
   "name": "python3"
  },
  "language_info": {
   "codemirror_mode": {
    "name": "ipython",
    "version": 3
   },
   "file_extension": ".py",
   "mimetype": "text/x-python",
   "name": "python",
   "nbconvert_exporter": "python",
   "pygments_lexer": "ipython3",
   "version": "3.8.8"
  }
 },
 "nbformat": 4,
 "nbformat_minor": 5
}
