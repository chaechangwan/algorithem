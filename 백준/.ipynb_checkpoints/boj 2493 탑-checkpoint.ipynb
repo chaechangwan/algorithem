{
 "cells": [
  {
   "cell_type": "markdown",
   "id": "ed9f6ec4",
   "metadata": {},
   "source": [
    "# 스택을 이용한 문제\n",
    "1. 입력받은 배열의 앞에서부터 돈다.\n",
    "- 스택이 비어있는 경우(배열의 첫번째 값을 넣을때가 유일)\n",
    "    1. 만약 스택이 비어있다면 0 출력 (당연히 비어있을 것임)\n",
    "    2. 스택에 현재 index와 값 push\n",
    "<p>\n",
    "\n",
    "- 스택이 비어있지 않다면 스택의 가장 위의 값과 현재 값의 크기를 비교하여 작으면 스택에서 pop. \n",
    "    - 스택의 가장 위의 값이 현재 값 보다 같거나 클 때까지 반복.\n",
    "    1. 스택의 가장 위의 값이 현재 값 보다 같거나 크다면, 가장 위의 값의 index 출력하고 반복문 빠져나옴\n",
    "    2. 위 단계를 진행한 후 스택이 비어있으면 0 출력\n",
    "    3. 스택에 현재 index와 값 push  "
   ]
  },
  {
   "cell_type": "code",
   "execution_count": null,
   "id": "b1967a4a",
   "metadata": {},
   "outputs": [],
   "source": [
    "from collections import deque\n",
    "n = int(input())\n",
    "arr = list(map(int, input().split()))\n",
    "\n",
    "stack = deque([]) # (index, height)\n",
    "result = []\n",
    "\n",
    "for i in range(0, n):\n",
    "  for _ in range(len(stack)):\n",
    "    if stack[-1][1] < arr[i]:\n",
    "      stack.pop()\n",
    "    else:\n",
    "      result.append(stack[-1][0])\n",
    "      break\n",
    "  \n",
    "  if not stack:\n",
    "    result.append(0)\n",
    "  \n",
    "  stack.append((i+1, arr[i]))\n",
    "\n",
    "for i in result:\n",
    "  print(i, end=\" \")"
   ]
  }
 ],
 "metadata": {
  "kernelspec": {
   "display_name": "Python 3",
   "language": "python",
   "name": "python3"
  },
  "language_info": {
   "codemirror_mode": {
    "name": "ipython",
    "version": 3
   },
   "file_extension": ".py",
   "mimetype": "text/x-python",
   "name": "python",
   "nbconvert_exporter": "python",
   "pygments_lexer": "ipython3",
   "version": "3.8.8"
  }
 },
 "nbformat": 4,
 "nbformat_minor": 5
}
