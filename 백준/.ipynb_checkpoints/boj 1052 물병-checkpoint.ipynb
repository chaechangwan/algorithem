{
 "cells": [
  {
   "cell_type": "markdown",
   "id": "220089fa",
   "metadata": {},
   "source": [
    "# 비트마스킹\n",
    "- n을 이진수로 변환하여 1의 개수를 세면 물병을 사지 않고 만들수 있는 최소 물병개수가 된다.\n",
    "- 이진수에서 1이 나타나는 첫번째 자리 p에 1을 더하면, 해당 자리를 0으로 만들 수 있음. 즉, 물병을 합칠 수 있음 => n에 2^p를 더하는 것과 같고 사야하는 물병 갯수가 2^p개 늘어나는 것.\n",
    "- 이런식으로 n을 늘려가며 k개 안쪽으로 들어올 때까지 반복하면 사야하는 최소 물병개수를 구할 수 있다."
   ]
  },
  {
   "cell_type": "code",
   "execution_count": null,
   "id": "618803e7",
   "metadata": {},
   "outputs": [],
   "source": [
    "n, k = map(int, input().split())\n",
    "result = 0\n",
    "while bin(n).count(\"1\") > k:\n",
    "  idx = bin(n)[::-1].index(\"1\")\n",
    "  result += 2**idx\n",
    "  n += 2 ** idx\n",
    "print(result)"
   ]
  }
 ],
 "metadata": {
  "kernelspec": {
   "display_name": "Python 3",
   "language": "python",
   "name": "python3"
  },
  "language_info": {
   "codemirror_mode": {
    "name": "ipython",
    "version": 3
   },
   "file_extension": ".py",
   "mimetype": "text/x-python",
   "name": "python",
   "nbconvert_exporter": "python",
   "pygments_lexer": "ipython3",
   "version": "3.8.8"
  }
 },
 "nbformat": 4,
 "nbformat_minor": 5
}
