{
 "cells": [
  {
   "cell_type": "markdown",
   "id": "443be440",
   "metadata": {},
   "source": [
    "# bfs 알고리즘\n",
    "- 움직일 직사각형의 가장 왼쪽 위 점을 기준으로 움직이면 된다. 몇가지 조건을 제외하면 미로 찾기랑 똑같은 문제이다.\n",
    "- 주요 체크 포인트 : \n",
    "1. 직사각형을 움직일 때 직사각형의 위, 아래, 오, 왼쪽 모서리가 전체 직사각형안에 들어와야한다. \n",
    "2. 직사각형을 움직일 때 직사각형 내부에 벽이 있는지 체크"
   ]
  },
  {
   "cell_type": "code",
   "execution_count": null,
   "id": "29e3294f",
   "metadata": {},
   "outputs": [],
   "source": [
    "import sys\n",
    "from collections import deque\n",
    "input = sys.stdin.readline\n",
    "n, m = map(int, input().rstrip().split())\n",
    "arr = [list(map(int, input().rstrip().split())) for _ in range(n)]\n",
    "h, w, sr, sc, fr, fc = map(int, input().rstrip().split())\n",
    "dy = [-1, 0, 1, 0]\n",
    "dx = [0, 1, 0, -1]\n",
    "visited = [[False for _ in range(m)] for _ in range(n)]\n",
    "result = -1\n",
    "walls = [] #벽의 좌표를 담을 배열\n",
    "for i in range(n):\n",
    "  for j in range(m):\n",
    "    if arr[i][j] == 1:\n",
    "      walls.append([i, j])\n",
    "\n",
    "def check(y, x): #이동할 수 있는지 없는지 check\n",
    "  if y + h > n or x + w > m: #직사각형의 위, 아래, 오, 왼쪽 모서리가 전체 직사각형안에 들어오는지 체크\n",
    "    return False\n",
    "  for wall in walls: #움직일 직사각형 안에 벽이 있는지 check\n",
    "    if y <= wall[0] < y + h and x <= wall[1] < x + w:\n",
    "      return False\n",
    "\n",
    "  return True\n",
    "\n",
    "def bfs(y, x): #bfs로 진행\n",
    "  global result\n",
    "  queue = deque([(y, x, 0)])\n",
    "  visited[y][x] = True\n",
    "  while queue:\n",
    "    y, x, cnt = queue.popleft();\n",
    "    if y == fr-1 and x == fc-1:\n",
    "      result = cnt\n",
    "      break;\n",
    "    for i in range(4):\n",
    "      ny, nx = y + dy[i], x + dx[i]\n",
    "      if -1 < ny < n and -1 < nx < m and not visited[ny][nx]:\n",
    "        if check(ny, nx):\n",
    "          queue.append((ny, nx, cnt + 1))\n",
    "          visited[ny][nx] = True\n",
    "  return\n",
    "\n",
    "bfs(sr-1, sc-1)\n",
    "print(result)"
   ]
  }
 ],
 "metadata": {
  "kernelspec": {
   "display_name": "Python 3",
   "language": "python",
   "name": "python3"
  },
  "language_info": {
   "codemirror_mode": {
    "name": "ipython",
    "version": 3
   },
   "file_extension": ".py",
   "mimetype": "text/x-python",
   "name": "python",
   "nbconvert_exporter": "python",
   "pygments_lexer": "ipython3",
   "version": "3.8.8"
  }
 },
 "nbformat": 4,
 "nbformat_minor": 5
}
