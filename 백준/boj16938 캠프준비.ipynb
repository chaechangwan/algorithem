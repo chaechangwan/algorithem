{
 "cells": [
  {
   "cell_type": "markdown",
   "id": "803a58e0",
   "metadata": {},
   "source": [
    "# 브루트포스 알고리즘 문제이다. \n",
    "### 재귀함수를 통해 배열의 index를 1 씩 증가시키며 모든 배열의 방을 탐색하면서, 현재 index에 해당하는 방을 전체 결과에 포함시킬지 말지를 각각 재귀함수로 분리한다. 최종적으로 index가 n이 되었을때(모든 방을 탐색했을때) 문제에 주어진 조건에 맞다면 카운트를 1증가시키면 된다."
   ]
  },
  {
   "cell_type": "code",
   "execution_count": null,
   "id": "1bd23176",
   "metadata": {},
   "outputs": [],
   "source": [
    "N, L, R, X = map(int, input().split())\n",
    "arr = list(map(int, input().split()))\n",
    "cnt = 0\n",
    "\n",
    "def dfs(tot, easy, diff, idx, num):\n",
    "  global cnt\n",
    "  if idx == N:\n",
    "    if num >= 2 and L <= tot <= R and diff-easy >= X: \n",
    "      cnt += 1\n",
    "    return\n",
    "  \n",
    "  dfs(tot, easy, diff, idx + 1, num)\n",
    "  if arr[idx] < easy:\n",
    "    easy = arr[idx]\n",
    "  if arr[idx] > diff:\n",
    "    diff = arr[idx]\n",
    "  dfs(tot+arr[idx], easy, diff, idx+1, num + 1)\n",
    "\n",
    "dfs(0, 1000000, 1, 0, 0)\n",
    "\n",
    "print(cnt)"
   ]
  }
 ],
 "metadata": {
  "kernelspec": {
   "display_name": "Python 3",
   "language": "python",
   "name": "python3"
  },
  "language_info": {
   "codemirror_mode": {
    "name": "ipython",
    "version": 3
   },
   "file_extension": ".py",
   "mimetype": "text/x-python",
   "name": "python",
   "nbconvert_exporter": "python",
   "pygments_lexer": "ipython3",
   "version": "3.8.8"
  }
 },
 "nbformat": 4,
 "nbformat_minor": 5
}
