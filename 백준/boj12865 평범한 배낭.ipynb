{
 "cells": [
  {
   "cell_type": "markdown",
   "id": "4ff250f7",
   "metadata": {},
   "source": [
    "# DP 알고리즘 중 knapsack 문제이다"
   ]
  },
  {
   "cell_type": "code",
   "execution_count": null,
   "id": "bc2d2baf",
   "metadata": {},
   "outputs": [],
   "source": [
    "n, k = map(int, input().split())\n",
    "W = [0]\n",
    "V = [0]\n",
    "dp = [[0 for _ in range(k+1)] for _ in range(n+1)]\n",
    "for _ in range(n):\n",
    "  w, v = map(int, input().split())\n",
    "  W.append(w)\n",
    "  V.append(v)\n",
    "\n",
    "for i in range(1, n+1):\n",
    "  for j in range(1, k+1):\n",
    "    if W[i] <= j: #i번째 물건을 배낭에 넣을 수 있는 경우\n",
    "      # i번째 물건을 포함하지 않았을때 최대가치와, i번째 물건을 포함했을대 최대 가치중 더 큰 값\n",
    "      dp[i][j] = max(dp[i-1][j], dp[i-1][j-W[i]] + V[i])\n",
    "    else: # i번째 물건을 배낭에 넣을 수 없는 경우\n",
    "      dp[i][j] = dp[i-1][j]\n",
    "\n",
    "print(dp[n][k])"
   ]
  }
 ],
 "metadata": {
  "kernelspec": {
   "display_name": "Python 3",
   "language": "python",
   "name": "python3"
  },
  "language_info": {
   "codemirror_mode": {
    "name": "ipython",
    "version": 3
   },
   "file_extension": ".py",
   "mimetype": "text/x-python",
   "name": "python",
   "nbconvert_exporter": "python",
   "pygments_lexer": "ipython3",
   "version": "3.8.8"
  }
 },
 "nbformat": 4,
 "nbformat_minor": 5
}
