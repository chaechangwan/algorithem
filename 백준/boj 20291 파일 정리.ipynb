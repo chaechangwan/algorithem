{
 "cells": [
  {
   "cell_type": "code",
   "execution_count": null,
   "id": "08baff99",
   "metadata": {},
   "outputs": [],
   "source": [
    "import sys\n",
    "input = sys.stdin.readline\n",
    "n = int(input().rstrip())\n",
    "myDict = {}\n",
    "for _ in range(n):\n",
    "  exp = input().rstrip().split(\".\")[1]\n",
    "  if myDict.get(exp):\n",
    "    myDict[exp] += 1\n",
    "  else:\n",
    "    myDict[exp] = 1\n",
    "\n",
    "sortedDict = sorted(myDict.items(), key = lambda x : x[0])\n",
    "for item in sortedDict:\n",
    "  print(item[0], item[1])"
   ]
  }
 ],
 "metadata": {
  "kernelspec": {
   "display_name": "Python 3",
   "language": "python",
   "name": "python3"
  },
  "language_info": {
   "codemirror_mode": {
    "name": "ipython",
    "version": 3
   },
   "file_extension": ".py",
   "mimetype": "text/x-python",
   "name": "python",
   "nbconvert_exporter": "python",
   "pygments_lexer": "ipython3",
   "version": "3.8.8"
  }
 },
 "nbformat": 4,
 "nbformat_minor": 5
}
