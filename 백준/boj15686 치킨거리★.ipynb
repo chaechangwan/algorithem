{
 "cells": [
  {
   "cell_type": "code",
   "execution_count": null,
   "id": "54c6d2a1",
   "metadata": {},
   "outputs": [],
   "source": [
    "from itertools import combinations\n",
    "\n",
    "n, m = map(int, input().split())\n",
    "maps = [list(map(int, input().split())) for _ in range(n)]\n",
    "chicken_list = []\n",
    "min_chicken_distance = 250000\n",
    "for i in range(n):\n",
    "  for j in range(n):\n",
    "    if maps[i][j] == 2:\n",
    "      chicken_list.append([i, j])\n",
    "\n",
    "chicken_list = list(combinations(chicken_list, m))\n",
    "\n",
    "for chicken in chicken_list:\n",
    "  chicken_distance = 0\n",
    "  for i in range(n):\n",
    "    for j in range(n):   \n",
    "      if maps[i][j] == 1:\n",
    "        distance = 100\n",
    "        for k in chicken:\n",
    "          if abs(i-k[0]) + abs(j-k[1]) < distance:\n",
    "            distance = abs(i-k[0]) + abs(j-k[1])\n",
    "        chicken_distance += distance\n",
    "  min_chicken_distance = min(chicken_distance, min_chicken_distance)\n",
    "\n",
    "\n",
    "print(min_chicken_distance)\n"
   ]
  }
 ],
 "metadata": {
  "kernelspec": {
   "display_name": "Python 3",
   "language": "python",
   "name": "python3"
  },
  "language_info": {
   "codemirror_mode": {
    "name": "ipython",
    "version": 3
   },
   "file_extension": ".py",
   "mimetype": "text/x-python",
   "name": "python",
   "nbconvert_exporter": "python",
   "pygments_lexer": "ipython3",
   "version": "3.8.8"
  }
 },
 "nbformat": 4,
 "nbformat_minor": 5
}
