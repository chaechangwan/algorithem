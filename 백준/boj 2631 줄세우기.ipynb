{
 "cells": [
  {
   "cell_type": "markdown",
   "id": "d967cccf",
   "metadata": {},
   "source": [
    "### 가장 긴 증가하는 부분수열의 원소에 해당하는 아이들을 고정시키고 나머지 아이들의 위치를 옮겨주면 아이들을 최소한으로 옮기면서 번호 순서대로 세울 수 있다.\n",
    "- 즉, N - LIS 값"
   ]
  },
  {
   "cell_type": "code",
   "execution_count": null,
   "id": "a9917c1c",
   "metadata": {},
   "outputs": [],
   "source": [
    "n = int(input())\n",
    "arr = [int(input()) for _ in range(n)]\n",
    "dp = [1 for _ in range(n)]\n",
    "\n",
    "for i in range(1, n):\n",
    "  for j in range(i):\n",
    "    if arr[j] < arr[i] and dp[i] < dp[j] + 1:\n",
    "      dp[i] = dp[j] + 1\n",
    "\n",
    "print(n - max(dp))"
   ]
  }
 ],
 "metadata": {
  "kernelspec": {
   "display_name": "Python 3",
   "language": "python",
   "name": "python3"
  },
  "language_info": {
   "codemirror_mode": {
    "name": "ipython",
    "version": 3
   },
   "file_extension": ".py",
   "mimetype": "text/x-python",
   "name": "python",
   "nbconvert_exporter": "python",
   "pygments_lexer": "ipython3",
   "version": "3.8.8"
  }
 },
 "nbformat": 4,
 "nbformat_minor": 5
}
