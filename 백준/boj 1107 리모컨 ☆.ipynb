{
 "cells": [
  {
   "cell_type": "markdown",
   "id": "5c2ecea9",
   "metadata": {},
   "source": [
    "### 브루트포스 문제이다. 버튼을 누르는 횟수는 총 2가지 경우로 나눌 수 있다.\n",
    "- 숫자 버튼을 누르지않고 + 또는 - 버튼 만을 누르는 경우\n",
    "- 숫자 버튼을 먼저 누르고 + 또는 - 버튼을 누르는 경우\n",
    "### 먼저, 최소값을 위의 경우에서 구한 값으로 설정하고 아래의 경우는 0 ~ 1000000까지 for 문을 돌면서 누를 수 있는 숫자이면 버튼 누르는 횟수 값을 구하여 기존의 최소값과 지속적으로 비교해 나간다. "
   ]
  },
  {
   "cell_type": "code",
   "execution_count": null,
   "id": "e51b4530",
   "metadata": {},
   "outputs": [],
   "source": [
    "n = int(input())\n",
    "m = int(input())\n",
    "broken = set(map(int, input().split()))\n",
    "remote = {i for i in range(10)}\n",
    "remote = remote - broken\n",
    "\n",
    "min_cnt = abs(100 - n)\n",
    "\n",
    "for num in range(1000001):\n",
    "  num = str(num)\n",
    "  for i in range(len(num)):    \n",
    "    if int(num[i]) not in remote:\n",
    "      break\n",
    "    elif i == len(num) - 1:\n",
    "      min_cnt = min(min_cnt, len(num) + abs(int(num) - n))\n",
    "\n",
    "print(min_cnt)"
   ]
  }
 ],
 "metadata": {
  "kernelspec": {
   "display_name": "Python 3",
   "language": "python",
   "name": "python3"
  },
  "language_info": {
   "codemirror_mode": {
    "name": "ipython",
    "version": 3
   },
   "file_extension": ".py",
   "mimetype": "text/x-python",
   "name": "python",
   "nbconvert_exporter": "python",
   "pygments_lexer": "ipython3",
   "version": "3.8.8"
  }
 },
 "nbformat": 4,
 "nbformat_minor": 5
}
