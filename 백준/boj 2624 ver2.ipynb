{
 "cells": [
  {
   "cell_type": "markdown",
   "id": "30b56fee",
   "metadata": {},
   "source": [
    "### DP\n",
    "1. 행(i)을 동전 종류, 열(j)을 만들어야하는 금액으로 둔다.\n",
    "2. i행의 j열을 진행할때마다, temp를 0으로 세팅하고, i-1 번째 행의 현재금액(j)에서 {i번째 행의 현재 동전금액(arr[i][0]) * k} (k : 0 ~ arr[i][1]) 을 뺐을 때 해당하는 dp 값을 temp에 모두 더해준다. 이후에 dp[i][j]에 temp를 대입한다.\n",
    "3. for문이 끝나고 dp[K][T]를 구하면 된다."
   ]
  },
  {
   "cell_type": "code",
   "execution_count": null,
   "id": "a66449da",
   "metadata": {},
   "outputs": [],
   "source": [
    "import sys\n",
    "input = sys.stdin.readline\n",
    "T = int(input().rstrip())\n",
    "K = int(input().rstrip())\n",
    "arr = [[0, 0]] + [list(map(int, input().rstrip().split())) for _ in range(K)]\n",
    "dp = [[0 for _ in range(T + 1)] for _ in range(K+1)]\n",
    "for i in range(K+1):\n",
    "  dp[i][0] = 1\n",
    "\n",
    "for i in range(1, K+1):\n",
    "  for j in range(1, T+1):\n",
    "    temp = 0\n",
    "    for n in range(arr[i][1] + 1):\n",
    "      if (j - arr[i][0] * n) >= 0:\n",
    "        temp += dp[i-1][j - n * arr[i][0]]\n",
    "      else:\n",
    "        break;\n",
    "    dp[i][j] = temp\n",
    "\n",
    "print(dp[K][T])"
   ]
  }
 ],
 "metadata": {
  "kernelspec": {
   "display_name": "Python 3",
   "language": "python",
   "name": "python3"
  },
  "language_info": {
   "codemirror_mode": {
    "name": "ipython",
    "version": 3
   },
   "file_extension": ".py",
   "mimetype": "text/x-python",
   "name": "python",
   "nbconvert_exporter": "python",
   "pygments_lexer": "ipython3",
   "version": "3.8.8"
  }
 },
 "nbformat": 4,
 "nbformat_minor": 5
}
