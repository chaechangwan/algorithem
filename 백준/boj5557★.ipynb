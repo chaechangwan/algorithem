{
 "cells": [
  {
   "cell_type": "code",
   "execution_count": 1,
   "id": "a1312c28",
   "metadata": {},
   "outputs": [
    {
     "name": "stdout",
     "output_type": "stream",
     "text": [
      "11\n",
      "8 3 2 4 8 7 2 4 0 8 8\n",
      "10\n"
     ]
    }
   ],
   "source": [
    "n = int(input())\n",
    "numList = list(map(int, input().split()))\n",
    "\n",
    "cnt = 0\n",
    "\n",
    "dp = [[0 for _ in range(21)] for _ in range(n-1)]\n",
    "dp[0][numList[0]] = 1\n",
    "for i in range(1, n-1):\n",
    "  for j in range(21):\n",
    "    if dp[i-1][j] != 0:\n",
    "      prev = j\n",
    "      now = numList[i]\n",
    "      if prev + now < 21:\n",
    "        dp[i][prev+now] += dp[i-1][prev]\n",
    "\n",
    "      if 0 <= prev - now:\n",
    "        dp[i][prev-now] += dp[i-1][prev]\n",
    "\n",
    "print(dp[n-2][numList[n-1]])"
   ]
  }
 ],
 "metadata": {
  "kernelspec": {
   "display_name": "Python 3",
   "language": "python",
   "name": "python3"
  },
  "language_info": {
   "codemirror_mode": {
    "name": "ipython",
    "version": 3
   },
   "file_extension": ".py",
   "mimetype": "text/x-python",
   "name": "python",
   "nbconvert_exporter": "python",
   "pygments_lexer": "ipython3",
   "version": "3.8.8"
  }
 },
 "nbformat": 4,
 "nbformat_minor": 5
}
