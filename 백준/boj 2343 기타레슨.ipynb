{
 "cells": [
  {
   "cell_type": "markdown",
   "id": "5b090ed8",
   "metadata": {},
   "source": [
    "# 이분탐색 (파라메트릭 서치)\n",
    "- 블루레이 1장의 길이로 이분탐색을 진행하면 된다.\n",
    "- mid(블루레이 1장의 길이)를 구할 때마다 총 m개의 블루레이로 강의를 다 담을 수 있는지 없는지 판단해서 담을 수 있는 경우엔 블루레이의 길이를 줄이고(right = mid  "
   ]
  },
  {
   "cell_type": "code",
   "execution_count": null,
   "id": "c74d1683",
   "metadata": {},
   "outputs": [],
   "source": [
    "n, m = map(int, input().split())\n",
    "lecture = list(map(int, input().split()))\n",
    "result = 0\n",
    "\n",
    "def check(mid): #블루레이 한 장의 길이가 mid 일때, 총 m개의 블루레이로 강의를 다 담을수 있으면 True, 아니면 False\n",
    "  s = 0\n",
    "  cnt = 0\n",
    "  for i in range(n):\n",
    "    if lecture[i] > mid:\n",
    "      return False\n",
    "    else:\n",
    "      if s + lecture[i] > mid:\n",
    "        s = lecture[i]\n",
    "        cnt += 1\n",
    "      else:\n",
    "        s += lecture[i]\n",
    "  if s > 0:\n",
    "    cnt += 1\n",
    "  if cnt <= m:\n",
    "    return True\n",
    "  else:\n",
    "    return False\n",
    "\n",
    "\n",
    "def binarySearch(left, right): #이분탐색\n",
    "  global result\n",
    "  if left > right:\n",
    "    return\n",
    "  mid = (left + right) // 2\n",
    "  if check(mid):\n",
    "    result = mid\n",
    "    binarySearch(left, mid-1)\n",
    "  else:\n",
    "    binarySearch(mid+1, right)\n",
    "\n",
    "binarySearch(0, 10000*n)\n",
    "print(result)"
   ]
  }
 ],
 "metadata": {
  "kernelspec": {
   "display_name": "Python 3",
   "language": "python",
   "name": "python3"
  },
  "language_info": {
   "codemirror_mode": {
    "name": "ipython",
    "version": 3
   },
   "file_extension": ".py",
   "mimetype": "text/x-python",
   "name": "python",
   "nbconvert_exporter": "python",
   "pygments_lexer": "ipython3",
   "version": "3.8.8"
  }
 },
 "nbformat": 4,
 "nbformat_minor": 5
}
