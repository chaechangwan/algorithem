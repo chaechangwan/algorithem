{
 "cells": [
  {
   "cell_type": "markdown",
   "id": "07d89b1a",
   "metadata": {},
   "source": [
    "### 이진탐색문제이다(parametric search) \n",
    "- 마지막 조각도 계산에 포함해야하기 때문에 케이크의 끝점을 자르는 위치에 포함시키는게 키 포인트이다."
   ]
  },
  {
   "cell_type": "code",
   "execution_count": null,
   "id": "14699494",
   "metadata": {},
   "outputs": [],
   "source": [
    "import sys\n",
    "input = sys.stdin.readline\n",
    "N, M, L = map(int, input().rstrip().split())\n",
    "cut_pos = [int(input().rstrip()) for _ in range(M)] + [L] #케이크의 끝점도 자르는 위치에 포함시킨다.\n",
    "cut = [int(input().rstrip()) for _ in range(N)]\n",
    "result = []\n",
    "\n",
    "def calculate(mid):\n",
    "  prev = 0\n",
    "  cnt = 0\n",
    "  for i in cut_pos:\n",
    "    if i-prev >= mid:\n",
    "      prev = i\n",
    "      cnt += 1\n",
    "  return cnt\n",
    "\n",
    "for cut_cnt in cut:\n",
    "  start = 0\n",
    "  end = L\n",
    "  max_length = 0\n",
    "  while start <= end:\n",
    "    mid = (start + end) // 2\n",
    "    temp = calculate(mid)\n",
    "    if temp > cut_cnt: #이부분이 포인트이다. 문제에서 잘라야하는 갯수보다 실제로 자른 갯수가 많아야한다. 케이크의 끝도 자르는 지점에 포함시켜야 마지막 조각도 mid이상의 길이가 나오기 때문이다. \n",
    "      max_length = mid #기존의 최대값이랑 max 비교 할 필요없다. 자를 수 있으면 항상 현재의 mid가 최대이기 때문이다.\n",
    "      start = mid + 1\n",
    "    else:\n",
    "      end = mid - 1\n",
    "  result.append(max_length)\n",
    "\n",
    "for i in result:\n",
    "  print(i)"
   ]
  }
 ],
 "metadata": {
  "kernelspec": {
   "display_name": "Python 3",
   "language": "python",
   "name": "python3"
  },
  "language_info": {
   "codemirror_mode": {
    "name": "ipython",
    "version": 3
   },
   "file_extension": ".py",
   "mimetype": "text/x-python",
   "name": "python",
   "nbconvert_exporter": "python",
   "pygments_lexer": "ipython3",
   "version": "3.8.8"
  }
 },
 "nbformat": 4,
 "nbformat_minor": 5
}
