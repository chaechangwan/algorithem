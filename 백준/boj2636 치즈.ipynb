{
 "cells": [
  {
   "cell_type": "markdown",
   "id": "6f84611a",
   "metadata": {},
   "source": [
    "### 문제의 핵심은 바깥쪽 공기랑 맞닿아 있는 치즈들을 어떻게 판별할 것인가 이다.\n",
    "- dfs 또는 bfs를 이용해서 (0, 0) 부터 0을 값으로 가지는 칸들을 모두 순회하여, 주변에 값이 1인 칸이 있다면, 그 칸은 한 시간 뒤에 녹게 되는 치즈임을 판별할 수 있다.\n",
    "- 녹이는 방법은 아래의 풀이처럼 dfs를 돌며 주변에 1인 칸을 발견할때마다 -1로 바꾼 후, dfs가 끝난뒤 -1들을 한번에 모두 0으로 바꾸는 방법이 있고\n",
    "- 또 한가지 방법은 dfs를 돌며 주변에 1인 칸을 발견할때마다 그 칸을 0으로 바꾸고 바로 방문처리를 해서 해당 칸을 탐색하지 않도록 하는 방법이 있다."
   ]
  },
  {
   "cell_type": "code",
   "execution_count": null,
   "id": "b3913c06",
   "metadata": {},
   "outputs": [],
   "source": [
    "import sys\n",
    "sys.setrecursionlimit(10000)\n",
    "input = sys.stdin.readline\n",
    "n, m = map(int,input().rstrip().split())\n",
    "arr = [list(map(int, input().rstrip().split())) for _ in range(n)]\n",
    "visited = [[False for _ in range(m)] for _ in range(n)]\n",
    "dy = [-1, 0, 1, 0]\n",
    "dx = [0, 1, 0, -1]\n",
    "lastCheese = []\n",
    "hours = 0\n",
    "count = 0\n",
    "\n",
    "def dfs(y, x):\n",
    "  visited[y][x] = True\n",
    "  for i in range(4):\n",
    "    ny, nx = y + dy[i], x + dx[i]\n",
    "    if -1 < ny < n and -1 < nx < m:\n",
    "      if arr[ny][nx] == 0 and not visited[ny][nx]:\n",
    "        dfs(ny, nx)\n",
    "      elif arr[ny][nx] == 1:\n",
    "        arr[ny][nx] = -1\n",
    "\n",
    "while True:\n",
    "  dfs(0, 0)\n",
    "  flag = False\n",
    "  count_temp = 0\n",
    "  for i in range(n):\n",
    "    for j in range(m):\n",
    "      if arr[i][j] == -1:\n",
    "        arr[i][j] = 0\n",
    "        count_temp += 1\n",
    "      elif arr[i][j] == 1:\n",
    "        flag = True\n",
    "  visited = [[False for _ in range(m)] for _ in range(n)]\n",
    "  count = count_temp\n",
    "  hours += 1\n",
    "  if not flag:\n",
    "    break\n",
    "\n",
    "print(hours)\n",
    "print(count)"
   ]
  }
 ],
 "metadata": {
  "kernelspec": {
   "display_name": "Python 3",
   "language": "python",
   "name": "python3"
  },
  "language_info": {
   "codemirror_mode": {
    "name": "ipython",
    "version": 3
   },
   "file_extension": ".py",
   "mimetype": "text/x-python",
   "name": "python",
   "nbconvert_exporter": "python",
   "pygments_lexer": "ipython3",
   "version": "3.8.8"
  }
 },
 "nbformat": 4,
 "nbformat_minor": 5
}
