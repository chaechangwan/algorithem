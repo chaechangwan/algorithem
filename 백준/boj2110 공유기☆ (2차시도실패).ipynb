{
 "cells": [
  {
   "cell_type": "markdown",
   "id": "20017d45",
   "metadata": {},
   "source": [
    "### 이분탐색 - 파라메트릭 서치\n",
    "1. 이분탐색의 기준을 공유기 사이의 거리로 잡는다.\n",
    "2. 이분탐색을 한번 시행할때마다 현재 공유기 거리를 적용하여 최대 몇개의 공유기를 설치할 수 있는지를 구한다.\n",
    "3. 공유기 설치 개수가 C와 같거나 더 많다면 공유기 사이의 거리를 늘려주고(start = mid + 1),\n",
    "    C보다 작다면 공유기 사이의 거리를 줄여준다(end = mid - 1)\n",
    "4. 위 과정을 이분탐색이 끝날때까지 반복한다."
   ]
  },
  {
   "cell_type": "code",
   "execution_count": null,
   "id": "b65db27e",
   "metadata": {},
   "outputs": [],
   "source": [
    "import sys\n",
    "input = sys.stdin.readline\n",
    "n, c = map(int, input().rstrip().split())\n",
    "house = [int(input().rstrip()) for _ in range(n)]\n",
    "house.sort()\n",
    "result = 0\n",
    "\n",
    "def count_router(distance : int) -> int:\n",
    "  cnt = 1\n",
    "  prev_house = house[0]\n",
    "  for i in range(1, n):\n",
    "    if prev_house + distance <= house[i]:\n",
    "      cnt += 1\n",
    "      prev_house = house[i]\n",
    "  return cnt\n",
    "\n",
    "\n",
    "start = 1\n",
    "end = house[n-1] - house[0]\n",
    "while start <= end:\n",
    "  mid = (start + end) // 2\n",
    "  if count_router(mid) >= c:\n",
    "    result = mid\n",
    "    start = mid + 1\n",
    "  else:\n",
    "    end = mid - 1\n",
    "  \n",
    "print(result)"
   ]
  }
 ],
 "metadata": {
  "kernelspec": {
   "display_name": "Python 3",
   "language": "python",
   "name": "python3"
  },
  "language_info": {
   "codemirror_mode": {
    "name": "ipython",
    "version": 3
   },
   "file_extension": ".py",
   "mimetype": "text/x-python",
   "name": "python",
   "nbconvert_exporter": "python",
   "pygments_lexer": "ipython3",
   "version": "3.8.8"
  }
 },
 "nbformat": 4,
 "nbformat_minor": 5
}
