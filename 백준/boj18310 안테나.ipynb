{
 "cells": [
  {
   "cell_type": "markdown",
   "id": "ac5aac3e",
   "metadata": {},
   "source": [
    "### 중위수를 구하면 된다."
   ]
  },
  {
   "cell_type": "code",
   "execution_count": null,
   "id": "2653dab8",
   "metadata": {},
   "outputs": [],
   "source": [
    "n = int(input())\n",
    "house = list(map(int, input().split()))\n",
    "house.sort()\n",
    "answer = 0\n",
    "if n % 2 == 0:\n",
    "  answer = house[n//2 - 1]\n",
    "else:\n",
    "  answer = house[(n+1)//2 - 1]\n",
    "print(answer)"
   ]
  }
 ],
 "metadata": {
  "kernelspec": {
   "display_name": "Python 3",
   "language": "python",
   "name": "python3"
  },
  "language_info": {
   "codemirror_mode": {
    "name": "ipython",
    "version": 3
   },
   "file_extension": ".py",
   "mimetype": "text/x-python",
   "name": "python",
   "nbconvert_exporter": "python",
   "pygments_lexer": "ipython3",
   "version": "3.8.8"
  }
 },
 "nbformat": 4,
 "nbformat_minor": 5
}
