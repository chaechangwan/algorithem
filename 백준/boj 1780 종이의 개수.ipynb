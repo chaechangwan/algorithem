{
 "cells": [
  {
   "cell_type": "markdown",
   "id": "bc38e8df",
   "metadata": {},
   "source": [
    "# 분할정복\n",
    "- 재귀함수를 이용해서 현재 배열의 원소가 모두 같으면 카운팅, 그렇지 않으면 9등분하여 각각 재귀함수에 넣는다.\n",
    "- 실제로 분할된 배열을 재귀함수로 넘기기보다, 배열을 분할한다고 가정하고 분할된 배열의 오른쪽, 왼쪽, 위쪽, 아래쪽 인덱스를 매개변수로 대신 넘겨서 풀이하면 시간이 훨씬 빠르다.\n",
    "- 아래 코드는 python으로는 미세하게 시간초과가 나와서 pypy3로 제출한 코드임."
   ]
  },
  {
   "cell_type": "code",
   "execution_count": null,
   "id": "b3310b80",
   "metadata": {},
   "outputs": [],
   "source": [
    "import sys\n",
    "input = sys.stdin.readline\n",
    "n = int(input().rstrip())\n",
    "arr = [list(map(int, input().rstrip().split())) for _ in range(n)]\n",
    "result = {-1 : 0, 0 : 0, 1 : 0} #종이에 쓰여진 숫자를 카운팅할 딕셔너리\n",
    "\n",
    "def dfs(l, r, t, b):\n",
    "  global result\n",
    "  temp = arr[t][l]\n",
    "  flag = False\n",
    "\n",
    "  #모든 원소가 같은지 검사\n",
    "  for i in range(t, b+1):\n",
    "    for j in range(l, r+1):\n",
    "      if arr[i][j] != temp:\n",
    "        flag = True \n",
    "\n",
    "  if not flag: #모든 원소가 같다면\n",
    "    result[temp] += 1\n",
    "    return\n",
    "  \n",
    "  next_len = (r - l + 1)//3 #이번에 분할하면 나오게될 배열 길이\n",
    "\n",
    "  #for문을 도는 총 9번의 경우에 대해 새롭게 구한 왼쪽idx, 오른쪽 idx, 위쪽 idx, 아래쪽 idx를 dfs에 다시 넣어준다.\n",
    "  for i in range(3):\n",
    "    for j in range(3):\n",
    "      dfs(l + next_len * i,  l + next_len * (i + 1) - 1, t + next_len * j, t + next_len * (j + 1) - 1)\n",
    "  \n",
    "dfs(0, n-1, 0, n-1)\n",
    "\n",
    "for i in result:\n",
    "  print(result[i])  "
   ]
  }
 ],
 "metadata": {
  "kernelspec": {
   "display_name": "Python 3",
   "language": "python",
   "name": "python3"
  },
  "language_info": {
   "codemirror_mode": {
    "name": "ipython",
    "version": 3
   },
   "file_extension": ".py",
   "mimetype": "text/x-python",
   "name": "python",
   "nbconvert_exporter": "python",
   "pygments_lexer": "ipython3",
   "version": "3.8.8"
  }
 },
 "nbformat": 4,
 "nbformat_minor": 5
}
