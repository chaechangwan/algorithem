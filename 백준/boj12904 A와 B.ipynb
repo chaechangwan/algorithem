{
 "cells": [
  {
   "cell_type": "markdown",
   "id": "5f1f3eb0",
   "metadata": {},
   "source": [
    "# 문자열 / 그리디 문제\n",
    "- t를 기준으로 현재 t와 s가 다르다면, t의 마지막 문자가 A인지 B인지 판단해서 A인 경우 마지막문자를 지우고, B인 경우 마지막 문자를 지우고 t를 뒤집는다.\n",
    "- 위 과정을 t와 s의 길이가 같아질 때까지 반복해서 t와 s가 일치한다면 1 아니면 0 을 반환하면 된다."
   ]
  },
  {
   "cell_type": "code",
   "execution_count": null,
   "id": "6e3bad23",
   "metadata": {},
   "outputs": [],
   "source": [
    "s = input()\n",
    "t = input()\n",
    "n_s = len(s)\n",
    "\n",
    "def check(s, t):\n",
    "  while True:\n",
    "    if t == s:\n",
    "      return 1\n",
    "    else:\n",
    "      if len(t) <= n_s:\n",
    "        return 0\n",
    "      else:\n",
    "        if t[-1] == 'A': #t의 마지막 문자가 A이면 마지막 문자 지우기\n",
    "          t = t[:-1]\n",
    "        elif t[-1] == 'B': #t의 마지막 문자가 B이면 마지막 문자 지우고 뒤집기\n",
    "          t = t[:-1][::-1]\n",
    "\n",
    "print(check(s, t))"
   ]
  }
 ],
 "metadata": {
  "kernelspec": {
   "display_name": "Python 3",
   "language": "python",
   "name": "python3"
  },
  "language_info": {
   "codemirror_mode": {
    "name": "ipython",
    "version": 3
   },
   "file_extension": ".py",
   "mimetype": "text/x-python",
   "name": "python",
   "nbconvert_exporter": "python",
   "pygments_lexer": "ipython3",
   "version": "3.8.8"
  }
 },
 "nbformat": 4,
 "nbformat_minor": 5
}
