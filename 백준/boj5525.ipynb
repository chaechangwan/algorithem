{
 "cells": [
  {
   "cell_type": "code",
   "execution_count": null,
   "id": "1460cf2a",
   "metadata": {},
   "outputs": [],
   "source": [
    "n = int(input())\n",
    "m = int(input())\n",
    "s = input()\n",
    "p = \"IO\" * n + \"I\";\n",
    "\n",
    "cnt = 0\n",
    "flag = False    \n",
    "i = 0\n",
    "lenp = 2*n+1\n",
    "\n",
    "while i < m:\n",
    "  if flag:\n",
    "    if s[i:i+2] == 'OI':\n",
    "      cnt += 1\n",
    "      i += 2\n",
    "    else:\n",
    "      flag = False\n",
    "\n",
    "  else:\n",
    "    if s[i:i+lenp] == p:\n",
    "      cnt += 1\n",
    "      flag = True\n",
    "      i += lenp\n",
    "    else:\n",
    "      i += 1\n",
    "  \n",
    "\n",
    "print(cnt)"
   ]
  }
 ],
 "metadata": {
  "kernelspec": {
   "display_name": "Python 3",
   "language": "python",
   "name": "python3"
  },
  "language_info": {
   "codemirror_mode": {
    "name": "ipython",
    "version": 3
   },
   "file_extension": ".py",
   "mimetype": "text/x-python",
   "name": "python",
   "nbconvert_exporter": "python",
   "pygments_lexer": "ipython3",
   "version": "3.8.8"
  }
 },
 "nbformat": 4,
 "nbformat_minor": 5
}
