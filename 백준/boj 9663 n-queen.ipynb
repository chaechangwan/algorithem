{
 "cells": [
  {
   "cell_type": "markdown",
   "id": "b57e8311",
   "metadata": {},
   "source": [
    "### 백트래킹 문제\n",
    "- 1차원 배열 arr의 index를 체스판의 열, arr[index]값을 해당 열에서 퀸이 위치하는 행이라고 두고 풀이한다."
   ]
  },
  {
   "cell_type": "code",
   "execution_count": null,
   "id": "5e000f78",
   "metadata": {},
   "outputs": [],
   "source": [
    "n = int(input())\n",
    "arr = [-1] * n\n",
    "cnt = 0\n",
    "\n",
    "def check(depth):\n",
    "  for i in range(depth):\n",
    "    if arr[depth] == arr[i] or abs(arr[depth] - arr[i]) == depth - i: # 같은 행에 위치해있거나 대각선상에 위치한 경우\n",
    "      return False\n",
    "  return True\n",
    "\n",
    "def bt(depth):\n",
    "  global cnt\n",
    "  if depth == n:\n",
    "    cnt += 1\n",
    "    return \n",
    "  \n",
    "  for i in range(n):\n",
    "    arr[depth] = i\n",
    "    if check(depth): # depth 번째 열의 i행에 큔이 위치할 수 있는지 check!\n",
    "      bt(depth + 1)\n",
    "\n",
    "bt(0)\n",
    "print(cnt)"
   ]
  }
 ],
 "metadata": {
  "kernelspec": {
   "display_name": "Python 3",
   "language": "python",
   "name": "python3"
  },
  "language_info": {
   "codemirror_mode": {
    "name": "ipython",
    "version": 3
   },
   "file_extension": ".py",
   "mimetype": "text/x-python",
   "name": "python",
   "nbconvert_exporter": "python",
   "pygments_lexer": "ipython3",
   "version": "3.8.8"
  }
 },
 "nbformat": 4,
 "nbformat_minor": 5
}
