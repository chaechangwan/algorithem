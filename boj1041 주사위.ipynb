{
 "cells": [
  {
   "cell_type": "markdown",
   "id": "420781eb",
   "metadata": {},
   "source": [
    "# 1041 주사위\n",
    "### 주사위가 모여 만들어진 정육면체에서 고려해야할 경우는 총 세가지이다.\n",
    "1. 주사위의 한 꼭지점을 둘러싼 세 면의 합이 최소가 되는 경우 \n",
    "2. 주사위의 한 모서리를 둘러싼 두 면의 합이 최소가 되는 경우\n",
    "3. 주사위의 한 면의 최소값\n",
    "\n",
    "### 하나의 정육면체를 만들기 위해 1, 2, 3번 경우가 나타나는 경우의 수는 다음과 같다.\n",
    "1. 4가지\n",
    "2. (n-1) * 4 + (n-2) * 4 가지\n",
    "3. (n-1) * (n-2) * 4 + (n-2)*(n-2) 가지\n",
    "\n",
    "### 위의 경우를 모두 구해서 합하면 된다."
   ]
  },
  {
   "cell_type": "code",
   "execution_count": 1,
   "id": "18cb5a49",
   "metadata": {},
   "outputs": [
    {
     "name": "stdout",
     "output_type": "stream",
     "text": [
      "10\n",
      "1 1 1 1 50 1\n",
      "500\n"
     ]
    }
   ],
   "source": [
    "n = int(input())\n",
    "dice = list(map(int, input().split()))\n",
    "alpha = ['a', 'b', 'c', 'd', 'e', 'f']\n",
    "d_dict = {key:val for key, val in zip(alpha, dice)}\n",
    "vertex = min(d_dict['a']+d_dict['b']+d_dict['c'],\n",
    "d_dict['a'] + d_dict['b'] + d_dict['d'],\n",
    "d_dict['a'] + d_dict['c'] + d_dict['e'],\n",
    "d_dict['a'] + d_dict['e'] + d_dict['d'],\n",
    "d_dict['b'] + d_dict['c'] + d_dict['f'],\n",
    "d_dict['b'] + d_dict['d'] + d_dict['f'],\n",
    "d_dict['c'] + d_dict['e'] + d_dict['f'],\n",
    "d_dict['d'] + d_dict['e'] + d_dict['f']\n",
    ")\n",
    "\n",
    "corner = min(\n",
    "  d_dict['a']+d_dict['b'],\n",
    "  d_dict['a']+d_dict['c'],\n",
    "  d_dict['a']+d_dict['e'],\n",
    "  d_dict['a']+d_dict['d'],\n",
    "  d_dict['b']+d_dict['c'],\n",
    "  d_dict['b']+d_dict['d'],\n",
    "  d_dict['b']+d_dict['f'],\n",
    "  d_dict['c']+d_dict['e'],\n",
    "  d_dict['c']+d_dict['f'],\n",
    "  d_dict['d']+d_dict['e'],\n",
    "  d_dict['d']+d_dict['f'],\n",
    "  d_dict['e']+d_dict['f']\n",
    ")\n",
    "\n",
    "plane = min(d_dict.values())\n",
    "\n",
    "if n > 1: \n",
    "  n_v = 4\n",
    "  n_c = (n-1) * 4 + (n-2) * 4 \n",
    "  n_p = (n-1) * (n-2) * 4 + (n-2)*(n-2)\n",
    "  print(vertex*n_v + corner * n_c + plane * n_p)\n",
    "else:\n",
    "  print(sum(d_dict.values()) - max(d_dict.values()))"
   ]
  },
  {
   "cell_type": "code",
   "execution_count": null,
   "id": "2cbd14f6",
   "metadata": {},
   "outputs": [],
   "source": []
  }
 ],
 "metadata": {
  "kernelspec": {
   "display_name": "Python 3",
   "language": "python",
   "name": "python3"
  },
  "language_info": {
   "codemirror_mode": {
    "name": "ipython",
    "version": 3
   },
   "file_extension": ".py",
   "mimetype": "text/x-python",
   "name": "python",
   "nbconvert_exporter": "python",
   "pygments_lexer": "ipython3",
   "version": "3.8.8"
  }
 },
 "nbformat": 4,
 "nbformat_minor": 5
}
