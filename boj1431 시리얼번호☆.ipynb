{
 "cells": [
  {
   "cell_type": "markdown",
   "id": "ee18db38",
   "metadata": {},
   "source": [
    "### 총 3가지 조건으로 정렬해야하는 문제이다."
   ]
  },
  {
   "cell_type": "markdown",
   "id": "60c3fe45",
   "metadata": {},
   "source": [
    "1. 파이썬의 정렬함수 이용"
   ]
  },
  {
   "cell_type": "code",
   "execution_count": null,
   "id": "2e2888eb",
   "metadata": {},
   "outputs": [],
   "source": [
    "n = int(input())\n",
    "arr = [input() for _ in range(n)]\n",
    "\n",
    "def cal_sum(x):\n",
    "  s = 0\n",
    "  for i in x:\n",
    "    if i.isdigit():\n",
    "      s += int(i)\n",
    "  return s\n",
    "\n",
    "arr = sorted(arr, key = lambda x : (len(x), cal_sum(x), x))\n",
    "\n",
    "for i in arr:\n",
    "  print(i)"
   ]
  },
  {
   "cell_type": "markdown",
   "id": "ece9e3ab",
   "metadata": {},
   "source": [
    "2. 선택정렬로 직접 구현"
   ]
  },
  {
   "cell_type": "code",
   "execution_count": null,
   "id": "e269332a",
   "metadata": {},
   "outputs": [],
   "source": [
    "import sys\n",
    "input = sys.stdin.readline\n",
    "n = int(input().rstrip())\n",
    "arr = [input().rstrip() for _ in range(n)]\n",
    "\n",
    "for i in range(n-1):\n",
    "  for j in range(i+1, n):\n",
    "    if len(arr[i]) > len(arr[j]):\n",
    "      arr[i],arr[j] = arr[j], arr[i]\n",
    "    elif len(arr[i]) == len(arr[j]):\n",
    "      s1, s2 = 0, 0\n",
    "      for k in range(len(arr[i])):\n",
    "        if arr[i][k].isdigit():\n",
    "          s1 += int(arr[i][k])\n",
    "        if arr[j][k].isdigit():\n",
    "          s2 += int(arr[j][k])\n",
    "      if s1 > s2:\n",
    "        arr[i],arr[j] = arr[j], arr[i]\n",
    "      elif s1 == s2:\n",
    "        for k in range(len(arr[i])):\n",
    "          if arr[i][k] != arr[j][k]:\n",
    "            if (not arr[i][k].isdigit()) and arr[j][k].isdigit():\n",
    "              arr[i],arr[j] = arr[j], arr[i]\n",
    "\n",
    "            elif arr[i][k].isdigit() and arr[j][k].isdigit():\n",
    "\n",
    "              if int(arr[i][k]) > int(arr[j][k]):\n",
    "                arr[i],arr[j] = arr[j], arr[i]\n",
    "\n",
    "            elif (not arr[i][k].isdigit()) and (not arr[j][k].isdigit()):\n",
    "\n",
    "              if ord(arr[i][k]) > ord(arr[j][k]):\n",
    "                arr[i],arr[j] = arr[j], arr[i]\n",
    "            break\n",
    "\n",
    "for i in arr:\n",
    "  print(i)"
   ]
  }
 ],
 "metadata": {
  "kernelspec": {
   "display_name": "Python 3",
   "language": "python",
   "name": "python3"
  },
  "language_info": {
   "codemirror_mode": {
    "name": "ipython",
    "version": 3
   },
   "file_extension": ".py",
   "mimetype": "text/x-python",
   "name": "python",
   "nbconvert_exporter": "python",
   "pygments_lexer": "ipython3",
   "version": "3.8.8"
  }
 },
 "nbformat": 4,
 "nbformat_minor": 5
}
