{
 "cells": [
  {
   "cell_type": "markdown",
   "id": "4d0650b8",
   "metadata": {},
   "source": [
    "# 백트래킹문제이다"
   ]
  },
  {
   "cell_type": "code",
   "execution_count": null,
   "id": "9a8add2c",
   "metadata": {},
   "outputs": [],
   "source": [
    "import sys\n",
    "input = sys.stdin.readline\n",
    "n = int(input().rstrip())\n",
    "egg = []\n",
    "result = 0\n",
    "for _ in range(n):\n",
    "  egg.append(list(map(int, input().rstrip().split())))\n",
    "\n",
    "def dfs(depth): \n",
    "  global result\n",
    "\n",
    "  if depth == n: #depth가 n이 되면 깨진 달걀 갯수세고 리턴\n",
    "    cnt = 0\n",
    "    for i in egg:\n",
    "      if i[0] <= 0:\n",
    "        cnt += 1\n",
    "    if cnt > result:\n",
    "      result = cnt\n",
    "    return\n",
    "\n",
    "  if egg[depth][0] <= 0: #손에 든 달걀이 깨진달걀일때 바로 다음 달걀로 진행\n",
    "    dfs(depth+1)\n",
    "  else:\n",
    "    flag = False\n",
    "    for i in range(n):\n",
    "      if i != depth and egg[i][0] > 0: #달걀을 부딛힐 수 있는 경우\n",
    "        flag = True\n",
    "        egg[i][0] -= egg[depth][1]\n",
    "        egg[depth][0] -= egg[i][1]\n",
    "        dfs(depth+1)\n",
    "        egg[i][0] += egg[depth][1]\n",
    "        egg[depth][0] += egg[i][1]\n",
    "    \n",
    "    if not flag: #달걀이 전부 깨져있을때 바로 depth = n으로 진행\n",
    "      dfs(n)\n",
    "\n",
    "dfs(0)\n",
    "print(result)"
   ]
  }
 ],
 "metadata": {
  "kernelspec": {
   "display_name": "Python 3",
   "language": "python",
   "name": "python3"
  },
  "language_info": {
   "codemirror_mode": {
    "name": "ipython",
    "version": 3
   },
   "file_extension": ".py",
   "mimetype": "text/x-python",
   "name": "python",
   "nbconvert_exporter": "python",
   "pygments_lexer": "ipython3",
   "version": "3.8.8"
  }
 },
 "nbformat": 4,
 "nbformat_minor": 5
}
