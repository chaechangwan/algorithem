{
 "cells": [
  {
   "cell_type": "code",
   "execution_count": null,
   "id": "b9ea89ec",
   "metadata": {},
   "outputs": [],
   "source": [
    "import sys\n",
    "input = sys.stdin.readline\n",
    "n, m = map(int, input().rstrip().split())\n",
    "order = [list(map(int, input().rstrip().split())) for _ in range(m)]\n",
    "\n",
    "trainArr = [[0 for _ in range(21)] for _ in range(n+1)]\n",
    "through = []\n",
    "\n",
    "for i in range(m):\n",
    "  if(len(order[i]) == 3):\n",
    "    num, train, x = order[i]\n",
    "    if num == 1:\n",
    "      if trainArr[train][x] == 0:\n",
    "        trainArr[train][x] = 1\n",
    "    else:\n",
    "      trainArr[train][x] = 0 \n",
    "  else:\n",
    "    num, train = order[i]\n",
    "    if num == 3:\n",
    "      trainArr[train] = [0] + trainArr[train][:20]\n",
    "    else:\n",
    "      trainArr[train] = [0] + trainArr[train][2:] + [0]\n",
    "\n",
    "\n",
    "\n",
    "for i in range(1, n+1):\n",
    "  if trainArr[i] not in through:\n",
    "    through.append(trainArr[i])\n",
    "\n",
    "print(len(through))\n"
   ]
  }
 ],
 "metadata": {
  "kernelspec": {
   "display_name": "Python 3",
   "language": "python",
   "name": "python3"
  },
  "language_info": {
   "codemirror_mode": {
    "name": "ipython",
    "version": 3
   },
   "file_extension": ".py",
   "mimetype": "text/x-python",
   "name": "python",
   "nbconvert_exporter": "python",
   "pygments_lexer": "ipython3",
   "version": "3.8.8"
  }
 },
 "nbformat": 4,
 "nbformat_minor": 5
}
