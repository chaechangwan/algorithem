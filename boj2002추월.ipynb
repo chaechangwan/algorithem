{
 "cells": [
  {
   "cell_type": "code",
   "execution_count": null,
   "id": "c32477a0",
   "metadata": {},
   "outputs": [],
   "source": [
    "import sys\n",
    "input = sys.stdin.readline\n",
    "n = int(input().rstrip())\n",
    "enter = [input().rstrip() for _ in range(n)]\n",
    "exit = [input().rstrip() for _ in range(n)]\n",
    "cnt = 0\n",
    "deleted = []\n",
    "\n",
    "exitIdx = 0\n",
    "for i in range(n):\n",
    "  if enter[i] in deleted:\n",
    "    continue\n",
    "\n",
    "  while enter[i] != exit[exitIdx]:\n",
    "    cnt += 1\n",
    "    deleted.append(exit[exitIdx])\n",
    "    exitIdx += 1\n",
    "\n",
    "  exitIdx += 1\n",
    "\n",
    "print(cnt)"
   ]
  }
 ],
 "metadata": {
  "kernelspec": {
   "display_name": "Python 3",
   "language": "python",
   "name": "python3"
  },
  "language_info": {
   "codemirror_mode": {
    "name": "ipython",
    "version": 3
   },
   "file_extension": ".py",
   "mimetype": "text/x-python",
   "name": "python",
   "nbconvert_exporter": "python",
   "pygments_lexer": "ipython3",
   "version": "3.8.8"
  }
 },
 "nbformat": 4,
 "nbformat_minor": 5
}
