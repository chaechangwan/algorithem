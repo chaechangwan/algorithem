{
 "cells": [
  {
   "cell_type": "markdown",
   "id": "28a7c74e",
   "metadata": {},
   "source": [
    "* 0번째 칸부터 n-2번째 칸까지 돌면서 지금 있는 칸에서 점프해서 갈 수 있는 칸들의 dp값과 지금 있는 칸의 dp값 + 1 중 작은 값으로 해당 칸의 dp 값을 업데이트 한다. for문을 다 돌고 난 후 마지막 칸의 dp값이 n인 그대로라면 마지막칸에 도달하지 못한 것이므로 -1 을 출력한다."
   ]
  },
  {
   "cell_type": "code",
   "execution_count": null,
   "id": "43338136",
   "metadata": {},
   "outputs": [],
   "source": [
    "n = int(input())\n",
    "arr = list(map(int, input().split()))\n",
    "dp = [n] * n # dp[i]는 i번째 칸에 도달할 수 있는 최소 점프 수\n",
    "dp[0] = 0\n",
    "for i in range(n-1):  \n",
    "  for j in range(1, arr[i]+1):\n",
    "    if i+j < n:\n",
    "      dp[i+j] = min(dp[i+j], dp[i] + 1)\n",
    "\n",
    "if dp[n-1] == n:\n",
    "  print(-1)\n",
    "else:\n",
    "  print(dp[n-1])"
   ]
  }
 ],
 "metadata": {
  "kernelspec": {
   "display_name": "Python 3",
   "language": "python",
   "name": "python3"
  },
  "language_info": {
   "codemirror_mode": {
    "name": "ipython",
    "version": 3
   },
   "file_extension": ".py",
   "mimetype": "text/x-python",
   "name": "python",
   "nbconvert_exporter": "python",
   "pygments_lexer": "ipython3",
   "version": "3.8.8"
  }
 },
 "nbformat": 4,
 "nbformat_minor": 5
}
