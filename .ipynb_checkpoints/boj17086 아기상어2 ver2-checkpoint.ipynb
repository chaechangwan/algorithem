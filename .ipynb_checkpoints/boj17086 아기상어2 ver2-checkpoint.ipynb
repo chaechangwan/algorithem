{
 "cells": [
  {
   "cell_type": "markdown",
   "id": "8f3fca45",
   "metadata": {},
   "source": [
    "# bfs로 구현했다\n",
    "1. 전체 배열을 순회하면서 1인 칸의 좌표와 이동거리 0 을 큐에 넣는다\n",
    "2. 큐에서 하나씩 꺼내면서, 이동할 수 있는 칸이라면(칸의 값이 0이라면) 값을 현재 이동거리 + 1로 바꾸고 큐에 해당칸의 좌표와 이동거리 +1을 넣는다. -> 계속 반복(while)\n",
    "3. 전체 배열에서 최대값을 구하면, 그 값이 최대 안전거리이다."
   ]
  },
  {
   "cell_type": "code",
   "execution_count": null,
   "id": "037426d6",
   "metadata": {},
   "outputs": [],
   "source": [
    "import sys\n",
    "from collections import deque\n",
    "input = sys.stdin.readline\n",
    "n, m = map(int, input().rstrip().split())\n",
    "arr = [list(map(int, input().rstrip().split())) for _ in range(n)]\n",
    "dy = [-1, -1, -1, 0, 1, 1, 1, 0]\n",
    "dx = [-1, 0, 1, 1, 1, 0, -1, -1]\n",
    "\n",
    "queue = deque([])\n",
    "\n",
    "for i in range(n):\n",
    "  for j in range(m):\n",
    "    if arr[i][j] == 1:\n",
    "      queue.append((i, j, 0))\n",
    "\n",
    "while queue:\n",
    "  y, x, cnt = queue.popleft()\n",
    "  for i in range(8):\n",
    "    ny, nx = y + dy[i], x + dx[i]\n",
    "    if -1 < ny < n and -1 < nx < m and arr[ny][nx] == 0:\n",
    "      arr[ny][nx] = cnt + 1\n",
    "      queue.append((ny, nx, cnt+1))\n",
    "\n",
    "#2차원 배열의 최대값 구하기\n",
    "print(max([max(arr[i]) for i in range(n)]))"
   ]
  }
 ],
 "metadata": {
  "kernelspec": {
   "display_name": "Python 3",
   "language": "python",
   "name": "python3"
  },
  "language_info": {
   "codemirror_mode": {
    "name": "ipython",
    "version": 3
   },
   "file_extension": ".py",
   "mimetype": "text/x-python",
   "name": "python",
   "nbconvert_exporter": "python",
   "pygments_lexer": "ipython3",
   "version": "3.8.8"
  }
 },
 "nbformat": 4,
 "nbformat_minor": 5
}
