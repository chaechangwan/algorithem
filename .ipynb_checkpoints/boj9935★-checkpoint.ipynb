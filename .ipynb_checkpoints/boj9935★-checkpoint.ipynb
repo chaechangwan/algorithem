{
 "cells": [
  {
   "cell_type": "code",
   "execution_count": 9,
   "id": "54d99efc",
   "metadata": {},
   "outputs": [
    {
     "name": "stdout",
     "output_type": "stream",
     "text": [
      "12ab112ab2ab\n",
      "12ab\n",
      "FRULA\n"
     ]
    }
   ],
   "source": [
    "s1 = input()\n",
    "s2 = input()\n",
    "stack = []\n",
    "for i in s1:\n",
    "    stack.append(i)\n",
    "    if stack[-1] == s2[-1]:\n",
    "        if ''.join(stack[-len(s2):]) == s2:\n",
    "            for j in range(len(s2)):\n",
    "                stack.pop()\n",
    "if len(stack) == 0:\n",
    "    print('FRULA')\n",
    "else:\n",
    "    print(''.join(stack))"
   ]
  },
  {
   "cell_type": "code",
   "execution_count": null,
   "id": "915b5421",
   "metadata": {},
   "outputs": [],
   "source": []
  },
  {
   "cell_type": "code",
   "execution_count": null,
   "id": "84a0b7b6",
   "metadata": {},
   "outputs": [],
   "source": []
  }
 ],
 "metadata": {
  "kernelspec": {
   "display_name": "Python 3",
   "language": "python",
   "name": "python3"
  },
  "language_info": {
   "codemirror_mode": {
    "name": "ipython",
    "version": 3
   },
   "file_extension": ".py",
   "mimetype": "text/x-python",
   "name": "python",
   "nbconvert_exporter": "python",
   "pygments_lexer": "ipython3",
   "version": "3.8.8"
  }
 },
 "nbformat": 4,
 "nbformat_minor": 5
}
