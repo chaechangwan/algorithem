{
 "cells": [
  {
   "cell_type": "code",
   "execution_count": null,
   "id": "d719bf28",
   "metadata": {},
   "outputs": [],
   "source": [
    "import sys\n",
    "input = sys.stdin.readline\n",
    "n, m = map(int, input().rstrip().split()) #가로, 세로\n",
    "board = [list(input().rstrip()) for _ in range(m)]\n",
    "power = [0, 0]\n",
    "cnt = 0\n",
    "visited = [[False for _ in range(n)] for _ in range(m)]\n",
    "dy, dx = [-1, 1, 0, 0], [0, 0, -1, 1]\n",
    "def dfs(y, x, m, n, side):\n",
    "  global cnt\n",
    "  cnt += 1\n",
    "  visited[y][x] = True\n",
    "  for i in range(4):\n",
    "    ny, nx = y+dy[i], x+dx[i]\n",
    "    if -1 < ny < m and -1 < nx < n:\n",
    "      if not visited[ny][nx] and board[ny][nx] == side:\n",
    "        dfs(ny, nx, m, n, side)\n",
    "\n",
    "for i in range(m):\n",
    "  for j in range(n):\n",
    "    if not visited[i][j]:\n",
    "      dfs(i, j, m, n, board[i][j])\n",
    "      if board[i][j] == 'W':\n",
    "        power[0] += cnt*cnt\n",
    "      else:\n",
    "        power[1] += cnt*cnt\n",
    "      cnt = 0\n",
    "\n",
    "print(power[0], power[1])"
   ]
  }
 ],
 "metadata": {
  "kernelspec": {
   "display_name": "Python 3",
   "language": "python",
   "name": "python3"
  },
  "language_info": {
   "codemirror_mode": {
    "name": "ipython",
    "version": 3
   },
   "file_extension": ".py",
   "mimetype": "text/x-python",
   "name": "python",
   "nbconvert_exporter": "python",
   "pygments_lexer": "ipython3",
   "version": "3.8.8"
  }
 },
 "nbformat": 4,
 "nbformat_minor": 5
}
