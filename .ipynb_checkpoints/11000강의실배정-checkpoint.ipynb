{
 "cells": [
  {
   "cell_type": "markdown",
   "id": "fd4d240c",
   "metadata": {},
   "source": [
    "### 우선순위 큐를 이용한 문제이다.\n",
    "- 처음에 한번 배열을 sort한 후, 배열의 첫번째 데이터를 기준을 끝나는 시간으로 잡아서 우선순위큐에 넣는다\n",
    "- for문을 돌면서 우선순위 큐에서 pop을 한뒤 i번째 데이터의 시작시간이 pop한 데이터의 끝나는시간보다 크거나 같으면 i번째 데이터를 우선순위 큐에 삽입하고, 그렇지 않다면 pop한 데이터를 다시 큐에 삽입한 뒤, i번째 데이터를 삽입한다.\n",
    "- for문이 끝나면 우선순위 큐에 남아있는 데이터들을 세면 된다."
   ]
  },
  {
   "cell_type": "code",
   "execution_count": null,
   "id": "980ea828",
   "metadata": {},
   "outputs": [],
   "source": [
    "import sys\n",
    "import heapq\n",
    "input = sys.stdin.readline\n",
    "n = int(input().rstrip())\n",
    "arr = [list(map(int, input().rstrip().split())) for _ in range(n)]\n",
    "arr.sort()\n",
    "heap = []\n",
    "heapq.heappush(heap, (arr[0][1], arr[0]))\n",
    "for i in range(1, n):\n",
    "  temp = heapq.heappop(heap)\n",
    "  if temp[1][1] > arr[i][0]:\n",
    "    heapq.heappush(heap, (temp[1][1], temp[1]))\n",
    "  heapq.heappush(heap,(arr[i][1], arr[i]))\n",
    "\n",
    "print(len(heap))"
   ]
  }
 ],
 "metadata": {
  "kernelspec": {
   "display_name": "Python 3",
   "language": "python",
   "name": "python3"
  },
  "language_info": {
   "codemirror_mode": {
    "name": "ipython",
    "version": 3
   },
   "file_extension": ".py",
   "mimetype": "text/x-python",
   "name": "python",
   "nbconvert_exporter": "python",
   "pygments_lexer": "ipython3",
   "version": "3.8.8"
  }
 },
 "nbformat": 4,
 "nbformat_minor": 5
}
