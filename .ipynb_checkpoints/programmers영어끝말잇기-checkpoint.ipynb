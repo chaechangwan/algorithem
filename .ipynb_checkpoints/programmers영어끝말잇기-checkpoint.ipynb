{
 "cells": [
  {
   "cell_type": "code",
   "execution_count": null,
   "id": "12ab259b",
   "metadata": {},
   "outputs": [],
   "source": [
    "import math\n",
    "def solution(n, words):\n",
    "    answer = []\n",
    "    words_dict = {words[0]:1}\n",
    "    order = 0\n",
    "    for i in range(1, len(words)):\n",
    "        if words_dict.get(words[i]) or words[i-1][-1] != words[i][0]:\n",
    "            order = i + 1\n",
    "            break\n",
    "        words_dict[words[i]] = 1\n",
    "\n",
    "\n",
    "    if order == 0:\n",
    "        answer = [0, 0]\n",
    "    else:\n",
    "        answer = [order % n, math.ceil(order / n)]\n",
    "        if answer[0] == 0:\n",
    "            answer[0] = n\n",
    "\n",
    "\n",
    "    return answer"
   ]
  }
 ],
 "metadata": {
  "kernelspec": {
   "display_name": "Python 3",
   "language": "python",
   "name": "python3"
  },
  "language_info": {
   "codemirror_mode": {
    "name": "ipython",
    "version": 3
   },
   "file_extension": ".py",
   "mimetype": "text/x-python",
   "name": "python",
   "nbconvert_exporter": "python",
   "pygments_lexer": "ipython3",
   "version": "3.8.8"
  }
 },
 "nbformat": 4,
 "nbformat_minor": 5
}
