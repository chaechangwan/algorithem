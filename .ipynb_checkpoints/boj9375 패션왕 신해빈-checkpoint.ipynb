{
 "cells": [
  {
   "cell_type": "code",
   "execution_count": null,
   "id": "204d2a6c",
   "metadata": {},
   "outputs": [],
   "source": [
    "import sys\n",
    "input = sys.stdin.readline\n",
    "m = int(input().rstrip())\n",
    "result = []\n",
    "for _ in range(m):\n",
    "  n = int(input().rstrip())\n",
    "  clothes = dict()\n",
    "  for _ in range(n):\n",
    "    item, category = tuple(input().rstrip().split())\n",
    "    if clothes.get(category) == None:\n",
    "      clothes[category] = 1\n",
    "    else:\n",
    "      clothes[category] += 1\n",
    "  \n",
    "  cases = 1\n",
    "  for i in clothes.values():\n",
    "    cases *= (i+1)\n",
    "  result.append(cases-1)\n",
    "\n",
    "for i in result:\n",
    "  print(i)"
   ]
  }
 ],
 "metadata": {
  "kernelspec": {
   "display_name": "Python 3",
   "language": "python",
   "name": "python3"
  },
  "language_info": {
   "codemirror_mode": {
    "name": "ipython",
    "version": 3
   },
   "file_extension": ".py",
   "mimetype": "text/x-python",
   "name": "python",
   "nbconvert_exporter": "python",
   "pygments_lexer": "ipython3",
   "version": "3.8.8"
  }
 },
 "nbformat": 4,
 "nbformat_minor": 5
}
