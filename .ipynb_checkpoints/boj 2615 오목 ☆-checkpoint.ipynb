{
 "cells": [
  {
   "cell_type": "markdown",
   "id": "c7db2e56",
   "metadata": {},
   "source": [
    "* 6목 판정이 까다로운 문제였다.\n",
    "* 한번 갔던 경로를 또 가지 않기위해 바둑판의 각 교차점마다 4가지의 방문체크(우, 우하, 하, 좌하)를 할 수 있는 배열을 만듬\n",
    "* 갈수 있는 경로(현재 돌에서 방문하지 않았던 경로)라면 연속된 돌이 끝날때까지 쭉 dfs로 이동하다가 돌이 끝나는 순간 딱 5개가 되는경우에만 승자를 결정하고 프로그램을 종료. 이외의 경우에는 다음돌로 이동해서 똑같은 과정 반복.\n",
    "* 마지막까지 승자가 결정되지 않으면 0 출력하고 프로그램 종료"
   ]
  },
  {
   "cell_type": "code",
   "execution_count": null,
   "id": "c3bb7583",
   "metadata": {},
   "outputs": [],
   "source": [
    "plane = [list(map(int, input().split())) for _ in range(19)] #바둑판 입력\n",
    "visited = [[[False for _ in range(4)] for _ in range(19)] for _ in range(19)] #바둑판의 모든 곳에 총 4종류의 방문체크를 할수 있는 배열.\n",
    "dy = [0, 1, 1, 1]\n",
    "dx = [1, 1, 0, -1]\n",
    "winner = 0\n",
    "\n",
    "def dfs(stone, y, x, direction, cnt):\n",
    "  global winner\n",
    "  visited[y][x][direction] = True\n",
    "  ny = y + dy[direction]\n",
    "  nx = x + dx[direction]\n",
    "  if -1 < ny < 19 and -1 < nx < 19 and plane[ny][nx] == stone:\n",
    "    dfs(stone, ny, nx, direction, cnt + 1)\n",
    "  else:\n",
    "    if cnt == 5:\n",
    "      winner = stone\n",
    "\n",
    "def whoIsWinner():\n",
    "  global winner\n",
    "  for i in range(19):\n",
    "    for j in range(19):\n",
    "      if plane[i][j] >= 1:\n",
    "        stone = plane[i][j]\n",
    "        for k in range(4):\n",
    "          if not visited[i][j][k]:\n",
    "            dfs(stone, i, j, k, 1)\n",
    "\n",
    "            if winner >= 1:\n",
    "              print(stone)\n",
    "              if k == 3:\n",
    "                print(i+1+4, j+1-4)\n",
    "              else:\n",
    "                print(i+1, j+1)\n",
    "              return\n",
    "  print(0)\n",
    "\n",
    "whoIsWinner()"
   ]
  }
 ],
 "metadata": {
  "kernelspec": {
   "display_name": "Python 3",
   "language": "python",
   "name": "python3"
  },
  "language_info": {
   "codemirror_mode": {
    "name": "ipython",
    "version": 3
   },
   "file_extension": ".py",
   "mimetype": "text/x-python",
   "name": "python",
   "nbconvert_exporter": "python",
   "pygments_lexer": "ipython3",
   "version": "3.8.8"
  }
 },
 "nbformat": 4,
 "nbformat_minor": 5
}
