{
 "cells": [
  {
   "cell_type": "code",
   "execution_count": 1,
   "id": "51c1bcaf",
   "metadata": {},
   "outputs": [],
   "source": [
    "### 배낭정리 문제라는 유명한 DP 알고리즘을 사용한다.\n",
    "### 브루트 포스 or 다이나믹 프로그래밍으로 풀수 있는 문제이다.\n",
    "### 브루트 포스로 풀면 최악의 경우 2^n의 시간복잡도가 나온다. DP로 풀면 n * 최대수용량 의 시간복잡도를 가지므로 DP가 효율적이다 "
   ]
  },
  {
   "cell_type": "code",
   "execution_count": null,
   "id": "3189049f",
   "metadata": {},
   "outputs": [],
   "source": [
    "n = int(input())\n",
    "L = list(map(int, input().split()))\n",
    "J = list(map(int, input().split()))\n",
    "answer = 0\n",
    "\n",
    "def dfs(idx, h, s): #h 체력, s 기쁨\n",
    "  global answer\n",
    "  if idx >= n:\n",
    "    if s > answer:\n",
    "      answer = s\n",
    "    return\n",
    "  \n",
    "  dfs(idx + 1, h, s)\n",
    "  if h + L[idx] >= 100:\n",
    "    dfs(n, h, s)\n",
    "  else:\n",
    "    dfs(idx + 1, h + L[idx], s + J[idx])\n",
    "\n",
    "dfs(0, 0, 0)\n",
    "print(answer)"
   ]
  }
 ],
 "metadata": {
  "kernelspec": {
   "display_name": "Python 3",
   "language": "python",
   "name": "python3"
  },
  "language_info": {
   "codemirror_mode": {
    "name": "ipython",
    "version": 3
   },
   "file_extension": ".py",
   "mimetype": "text/x-python",
   "name": "python",
   "nbconvert_exporter": "python",
   "pygments_lexer": "ipython3",
   "version": "3.8.8"
  }
 },
 "nbformat": 4,
 "nbformat_minor": 5
}
