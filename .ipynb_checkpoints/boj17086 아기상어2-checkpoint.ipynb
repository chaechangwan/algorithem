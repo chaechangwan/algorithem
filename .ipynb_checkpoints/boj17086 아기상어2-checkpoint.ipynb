{
 "cells": [
  {
   "cell_type": "markdown",
   "id": "0eed4673",
   "metadata": {},
   "source": [
    "## BFS 문제이다\n",
    "### 모든 0인 칸에서 가장가까운 1인 칸 까지의 거리의 최대 값을 구하면 된다.\n",
    "### 아래 풀이는 0을 기준으로 풀었지만, 1을 기준으로 풀면 훨씬 풀이시간이 빠르다."
   ]
  },
  {
   "cell_type": "code",
   "execution_count": null,
   "id": "c1ce5b63",
   "metadata": {},
   "outputs": [],
   "source": [
    "import sys\n",
    "from collections import deque\n",
    "input = sys.stdin.readline\n",
    "n, m = map(int, input().rstrip().split())\n",
    "arr = [list(map(int, input().rstrip().split())) for _ in range(n)]\n",
    "dy = [-1, -1, -1, 0, 1, 1, 1, 0]\n",
    "dx = [-1, 0, 1, 1, 1, 0, -1, -1]\n",
    "visited = [[False for _ in range(m)] for _ in range(n)]\n",
    "result = []\n",
    "def search_safe(y, x):\n",
    "  global result\n",
    "  queue = deque([(y, x, 0)])\n",
    "  visited[y][x] = True\n",
    "  while queue:\n",
    "    y, x, cnt = queue.popleft()\n",
    "    if arr[y][x] == 1:\n",
    "      result.append(cnt)\n",
    "      break\n",
    "    for i in range(8):\n",
    "      ny, nx = y + dy[i], x + dx[i]\n",
    "      if -1 < ny < n and -1 < nx < m:\n",
    "        if not visited[ny][nx]:\n",
    "          queue.append((ny, nx, cnt + 1))\n",
    "          visited[ny][nx] = True\n",
    "  \n",
    "for i in range(n):\n",
    "  for j in range(m):\n",
    "    if arr[i][j] == 0:\n",
    "      search_safe(i, j)\n",
    "      visited = [[False for _ in range(m)] for _ in range(n)]\n",
    "\n",
    "print(max(result))"
   ]
  }
 ],
 "metadata": {
  "kernelspec": {
   "display_name": "Python 3",
   "language": "python",
   "name": "python3"
  },
  "language_info": {
   "codemirror_mode": {
    "name": "ipython",
    "version": 3
   },
   "file_extension": ".py",
   "mimetype": "text/x-python",
   "name": "python",
   "nbconvert_exporter": "python",
   "pygments_lexer": "ipython3",
   "version": "3.8.8"
  }
 },
 "nbformat": 4,
 "nbformat_minor": 5
}
