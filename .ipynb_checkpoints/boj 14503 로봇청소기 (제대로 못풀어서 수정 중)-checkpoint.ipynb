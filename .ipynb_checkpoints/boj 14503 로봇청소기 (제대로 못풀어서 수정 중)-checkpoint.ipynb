{
 "cells": [
  {
   "cell_type": "code",
   "execution_count": null,
   "id": "05f2ff1e",
   "metadata": {},
   "outputs": [],
   "source": [
    "import sys\n",
    "input = sys.stdin.readline\n",
    "n, m = map(int, input().rstrip().split())\n",
    "y, x, d = map(int, input().rstrip().split())\n",
    "arr = [list(map(int, input().rstrip().split())) for _ in range(n)]\n",
    "dy = [-1, 0, 1, 0] #북 동 남 서\n",
    "dx = [0, 1, 0, -1]\n",
    "total = 0\n",
    "\n",
    "def check(y, x): #회전을 시키는 함수. 회전 시킨 방향으로 갈 수 있는 경우는 True, 4방향 모두 갈 수 없는 경우 False\n",
    "  global d\n",
    "  cnt = 0\n",
    "  while cnt < 4:\n",
    "    d = (d+3) % 4 #왼쪽 방향 회전   \n",
    "    cnt += 1 \n",
    "    ny, nx = y + dy[d], x + dx[d]\n",
    "    if arr[ny][nx] == 0:\n",
    "      return True\n",
    "  return False\n",
    "\n",
    "while True:\n",
    "  arr[y][x] = 1 #현재 칸 청소\n",
    "  total += 1\n",
    "  temp = check(y, x)\n",
    "  if temp: #회전해서 갈 수 있으면 이동\n",
    "    y, x = y + dy[d], x + dx[d]\n",
    "  else: #4방향 다 못가는 경우\n",
    "    ny, nx = y - dy[d], x - dx[d]\n",
    "    if arr[ny][nx] == 1: #뒤로도 이동할 수 없다면 break \n",
    "      break;\n",
    "    else:\n",
    "      y, x = ny, nx #뒤로 이동\n",
    "\n",
    "print(total)"
   ]
  }
 ],
 "metadata": {
  "kernelspec": {
   "display_name": "Python 3",
   "language": "python",
   "name": "python3"
  },
  "language_info": {
   "codemirror_mode": {
    "name": "ipython",
    "version": 3
   },
   "file_extension": ".py",
   "mimetype": "text/x-python",
   "name": "python",
   "nbconvert_exporter": "python",
   "pygments_lexer": "ipython3",
   "version": "3.8.8"
  }
 },
 "nbformat": 4,
 "nbformat_minor": 5
}
