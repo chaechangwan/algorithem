{
 "cells": [
  {
   "cell_type": "code",
   "execution_count": 3,
   "id": "b7cfe3d1",
   "metadata": {},
   "outputs": [
    {
     "name": "stdout",
     "output_type": "stream",
     "text": [
      "25 5\n",
      "2\n"
     ]
    }
   ],
   "source": [
    "# 그리디\n",
    "n, k = map(int, input().split())\n",
    "def q1(n, k):\n",
    "    cnt = 0\n",
    "    while n > 1:\n",
    "        if n % k == 0:\n",
    "            n = n // k\n",
    "        else:\n",
    "            n -= 1\n",
    "        cnt += 1\n",
    "    return cnt\n",
    "\n",
    "print(q1(n, k))"
   ]
  },
  {
   "cell_type": "code",
   "execution_count": 7,
   "id": "a0409564",
   "metadata": {},
   "outputs": [
    {
     "name": "stdout",
     "output_type": "stream",
     "text": [
      "c2\n",
      "6\n"
     ]
    }
   ],
   "source": [
    "#구현\n",
    "s = input()\n",
    "x, y = ord(s[0])-97, int(s[1]) - 1\n",
    "dx = [-1, 1, 2, 2, 1, -1, -2, -2]\n",
    "dy = [-2, -2, -1, 1, 2, 2, 1, -1]\n",
    "cnt = 0\n",
    "for i in range(8):\n",
    "    ny, nx = y+dy[i], x + dx[i]\n",
    "    if -1 < ny < 8 and -1 < nx < 8:\n",
    "        cnt += 1\n",
    "        \n",
    "print(cnt)"
   ]
  },
  {
   "cell_type": "code",
   "execution_count": 30,
   "id": "13c6e4e8",
   "metadata": {},
   "outputs": [
    {
     "name": "stdout",
     "output_type": "stream",
     "text": [
      "4 5\n",
      "00110\n",
      "00011\n",
      "11111\n",
      "00000\n",
      "3\n"
     ]
    }
   ],
   "source": [
    "#dfs\n",
    "n, m = map(int, input().split())\n",
    "cont = [list(map(int, list(input()))) for _ in range(n)]\n",
    "dy = [-1, 0, 1, 0]\n",
    "dx = [0, 1, 0, -1]\n",
    "visited = [[False for _ in range(m)] for _ in range(n)]\n",
    "cnt = 0\n",
    "\n",
    "def dfs(y, x):\n",
    "    visited[y][x] = True\n",
    "    for i in range(4):\n",
    "        ny, nx = y+dy[i], x+dx[i]\n",
    "\n",
    "        if -1 < ny < n and -1 < nx < m:\n",
    "            if not visited[ny][nx] and cont[ny][nx] == 0:\n",
    "                dfs(ny, nx)\n",
    "for i in range(n):\n",
    "    for j in range(m):\n",
    "        if not visited[i][j] and cont[i][j] == 0:\n",
    "            cnt += 1\n",
    "            dfs(i, j)\n",
    "\n",
    "print(cnt)"
   ]
  },
  {
   "cell_type": "code",
   "execution_count": 34,
   "id": "722ac9be",
   "metadata": {},
   "outputs": [
    {
     "name": "stdout",
     "output_type": "stream",
     "text": [
      "5 6\n",
      "101010\n",
      "111111\n",
      "000001\n",
      "111111\n",
      "111111\n",
      "10\n"
     ]
    }
   ],
   "source": [
    "#bfs\n",
    "from collections import deque\n",
    "n, m = map(int, input().split())\n",
    "maze = [list(map(int, list(input()))) for _ in range(n)]\n",
    "dy = [-1, 0, 1, 0]\n",
    "dx = [0, 1, 0, -1]\n",
    "visited = [[False for _ in range(m)] for _ in range(n)]\n",
    "queue = deque([(0, 0, 1)])\n",
    "answer = 0\n",
    "while queue:\n",
    "    y, x, cnt = queue.popleft()\n",
    "    if y == n-1 and x == m-1:\n",
    "        answer = cnt\n",
    "        break\n",
    "    for i in range(4):\n",
    "        ny, nx = y+dy[i], x+dx[i]\n",
    "        if -1 < ny < n and -1 < nx < m:\n",
    "            if not visited[ny][nx] and maze[ny][nx] == 1:\n",
    "                queue.append((ny, nx, cnt+1))\n",
    "                visited[ny][nx] = True\n",
    "\n",
    "print(answer)"
   ]
  },
  {
   "cell_type": "code",
   "execution_count": null,
   "id": "54e21357",
   "metadata": {},
   "outputs": [],
   "source": [
    "#binary search"
   ]
  }
 ],
 "metadata": {
  "kernelspec": {
   "display_name": "Python 3",
   "language": "python",
   "name": "python3"
  },
  "language_info": {
   "codemirror_mode": {
    "name": "ipython",
    "version": 3
   },
   "file_extension": ".py",
   "mimetype": "text/x-python",
   "name": "python",
   "nbconvert_exporter": "python",
   "pygments_lexer": "ipython3",
   "version": "3.8.8"
  }
 },
 "nbformat": 4,
 "nbformat_minor": 5
}
