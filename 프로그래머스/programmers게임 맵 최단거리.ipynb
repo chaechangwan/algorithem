{
 "cells": [
  {
   "cell_type": "code",
   "execution_count": 3,
   "id": "7d4ce678",
   "metadata": {},
   "outputs": [
    {
     "name": "stdout",
     "output_type": "stream",
     "text": [
      "11\n"
     ]
    }
   ],
   "source": [
    "from collections import deque\n",
    "dy = [1, 0, -1, 0]\n",
    "dx = [0, 1, 0, -1]\n",
    "\n",
    "def solution(maps):\n",
    "    answer = 0\n",
    "    n, m = len(maps), len(maps[0])\n",
    "    maps[0][0] = -1\n",
    "    queue = deque([(0, 0, 1)])\n",
    "    while queue:\n",
    "        y, x, cnt = queue.popleft()\n",
    "        if y == n-1 and x == m-1:\n",
    "            return cnt\n",
    "        for i in range(4):\n",
    "            ny, nx = y + dy[i], x + dx[i]\n",
    "            if -1 < ny < n and -1 < nx < m:\n",
    "                if maps[ny][nx] == 1:\n",
    "                    queue.append((ny, nx, cnt + 1))\n",
    "                    maps[ny][nx] = -1\n",
    "\n",
    "\n",
    "    return -1\n",
    "\n",
    "print(solution([[1,0,1,1,1],[1,0,1,0,1],[1,0,1,1,1],[1,1,1,0,1],[0,0,0,0,1]]))"
   ]
  },
  {
   "cell_type": "code",
   "execution_count": null,
   "id": "4c5f941f",
   "metadata": {},
   "outputs": [],
   "source": []
  }
 ],
 "metadata": {
  "kernelspec": {
   "display_name": "Python 3",
   "language": "python",
   "name": "python3"
  },
  "language_info": {
   "codemirror_mode": {
    "name": "ipython",
    "version": 3
   },
   "file_extension": ".py",
   "mimetype": "text/x-python",
   "name": "python",
   "nbconvert_exporter": "python",
   "pygments_lexer": "ipython3",
   "version": "3.8.8"
  }
 },
 "nbformat": 4,
 "nbformat_minor": 5
}
