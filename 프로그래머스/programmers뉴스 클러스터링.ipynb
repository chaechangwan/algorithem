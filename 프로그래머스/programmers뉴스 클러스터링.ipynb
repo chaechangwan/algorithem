{
 "cells": [
  {
   "cell_type": "code",
   "execution_count": null,
   "id": "867ef81b",
   "metadata": {},
   "outputs": [],
   "source": [
    "def solution(str1, str2):\n",
    "    str1 = str1.upper()\n",
    "    str2 = str2.upper()\n",
    "    answer = 0\n",
    "    firstDict = {}\n",
    "    secondDict = {}\n",
    "    for i in range(1, len(str1)):\n",
    "        temp = str1[i-1:i+1]\n",
    "        if temp.isalpha():\n",
    "            if firstDict.get(temp):\n",
    "                firstDict[temp] += 1\n",
    "            else:\n",
    "                firstDict[temp] = 1\n",
    "    for i in range(1, len(str2)):\n",
    "        temp = str2[i-1:i+1]\n",
    "        if temp.isalpha():\n",
    "            if secondDict.get(temp):\n",
    "                secondDict[temp] += 1\n",
    "            else:\n",
    "                secondDict[temp] = 1\n",
    "    intersects = 0\n",
    "    unions = 0\n",
    "    if firstDict or secondDict:\n",
    "        for i in firstDict.keys():\n",
    "            if secondDict.get(i):\n",
    "                intersects += min(firstDict[i], secondDict[i])\n",
    "                unions += max(firstDict[i], secondDict[i])\n",
    "        firstSet = set(firstDict.keys())\n",
    "        secondSet = set(secondDict.keys())\n",
    "        firstRestSet = firstSet - secondSet\n",
    "        secondRestSet = secondSet - firstSet\n",
    "        for i in firstRestSet:\n",
    "            unions += firstDict[i]\n",
    "        for i in secondRestSet:\n",
    "            unions += secondDict[i]\n",
    "        answer = int(intersects / unions * 65536)\n",
    "    else:\n",
    "        answer = 65536\n",
    "      \n",
    "    return answer"
   ]
  }
 ],
 "metadata": {
  "kernelspec": {
   "display_name": "Python 3",
   "language": "python",
   "name": "python3"
  },
  "language_info": {
   "codemirror_mode": {
    "name": "ipython",
    "version": 3
   },
   "file_extension": ".py",
   "mimetype": "text/x-python",
   "name": "python",
   "nbconvert_exporter": "python",
   "pygments_lexer": "ipython3",
   "version": "3.8.8"
  }
 },
 "nbformat": 4,
 "nbformat_minor": 5
}
